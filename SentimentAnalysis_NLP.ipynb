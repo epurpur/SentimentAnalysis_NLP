{
 "cells": [
  {
   "cell_type": "markdown",
   "id": "bb6f37ff-2b8b-49ac-baea-16f4ef5e55e6",
   "metadata": {},
   "source": [
    "# Natural Language Processing and Sentiment Analysis"
   ]
  },
  {
   "cell_type": "markdown",
   "id": "6afbad2d-38dc-487b-9c46-bd99f9905732",
   "metadata": {},
   "source": [
    "## Natural Language Processing\n",
    "\n",
    "First, think about C3PO, Luke Skywalker's robot sidekick in Star Wars. C3P0 is a fantasized version of human-computer interaction in the distant future. However, humans interacting with machines is an every day reality for us. Your home or car smart assistant (Alexa), customer service on websites or phone lines, autocorrect features, etc. are all examples of Natural Language Processing.\n",
    "\n",
    "Natural Language Processing (NLP) is the field of deriving meaningful information from human speech. NLP is a branch of computer science, or more specifically a branch of artificial intelligence, concerned with allowing computers the ability to understand human speech either in a written or spoken format. \n",
    "\n"
   ]
  }
 ],
 "metadata": {
  "kernelspec": {
   "display_name": "Python 3 (ipykernel)",
   "language": "python",
   "name": "python3"
  },
  "language_info": {
   "codemirror_mode": {
    "name": "ipython",
    "version": 3
   },
   "file_extension": ".py",
   "mimetype": "text/x-python",
   "name": "python",
   "nbconvert_exporter": "python",
   "pygments_lexer": "ipython3",
   "version": "3.9.7"
  }
 },
 "nbformat": 4,
 "nbformat_minor": 5
}
