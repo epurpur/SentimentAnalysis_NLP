{
 "cells": [
  {
   "cell_type": "markdown",
   "id": "6afbad2d-38dc-487b-9c46-bd99f9905732",
   "metadata": {},
   "source": [
    "## Natural Language Processing\n",
    "\n",
    "First, think about C3PO, Luke Skywalker's robot sidekick in Star Wars. C3P0 is a fantasized version of human-computer interaction in the distant future. However, humans interacting with machines is an every day reality for us. Your home or car smart assistant (Alexa), customer service on websites or phone lines, autocorrect features, etc. are all examples of Natural Language Processing.\n",
    "\n",
    "Natural Language Processing (NLP) is the field of deriving meaningful information from human speech. NLP is a branch of computer science, or more specifically a branch of artificial intelligence, concerned with allowing computers the ability to understand human speech either in a written or spoken format. \n",
    "\n",
    "\n",
    "\n",
    "\n"
   ]
  },
  {
   "cell_type": "markdown",
   "id": "11ffbfcf-f28c-4557-b22d-22fb382ca9f8",
   "metadata": {},
   "source": [
    "### There are many types of NLP\n",
    "There are many different varieties of natural language processing. These are just a few real world examples of these techniques to give an idea of how this is used today.\n",
    "\n",
    "#### Sentiment Analysis\n",
    "This is most of what we will be doing today. Sentiment analysis examines text in order to identify the general \"feeling\" of the text. Take this example...\n",
    "Businesses are using sentiment analysis today to monitor and evaluate customer service. Does this customer seem satisfied?\n",
    "\n",
    "![airbnb tweet](./images/airbnb.png)\n",
    "\n",
    "This person is not happy. By analyzing sentiment analysis on customer support chats, tweets, etc. a company can get insights on where their service model is not working. \n",
    "    \n",
    "#### Topic Modeling\n",
    "Topic modeling is an unsupervised machine learning technique that is capable of scanning a set of documents, detecting patterns within them, and automatically clustering word groups or similar expressions that characterize the documents.  An example...\n",
    "Imagine that you work at a legal firm and someone at a company has embezzled money. You need to figure out who that person is and you are monitoring company emails from the last six months. There are probably thousands of emails and you don't want to waste time reading all of them. In this case, you can have a computer read the text of the emails and identify the ones that are relevant to the topic of money, narrowing down the amount of emails needed to read\n",
    "    \n",
    "![email examples](./images/topicmodeling.png)\n",
    "    \n",
    "#### Text Generation\n",
    "Text generation is simply the task of producing new text. A very common example of this is autocomplete or autofill features, such as when texting or in a search engine. Take the following example, we all use this every day right?\n",
    "\n",
    "![google autofill](./images/google.png)\n",
    "\n",
    "The code simple predicts what you might type next..."
   ]
  },
  {
   "cell_type": "markdown",
   "id": "d26c559f-2d00-41bc-b0d7-4ec11dcfcf0c",
   "metadata": {},
   "source": [
    "## Example 1: VADER sentiment scoring\n",
    "\n",
    "VADER - Valence Aware Dictionary for sEntiment Reasoning. VADER is a model used for text sentiment analysis that is sensitive to both polarity (positive/negative) and intensity of emotion. This model does not account for relationships between words. This is the \"bag of word\" approach. All words in the text are thrown into a bag and scored. The cumulative score determines the final rating. More on this later.\n",
    "\n",
    "## Data Gathering\n",
    "\n",
    "The first part of most projects like this is getting data. This could be another workshop in itself so for the sake of our meeting today we will be using some sample data that I provide about product reviews on Amazon. \n",
    "\n",
    "There are many potential sources of data. It may be available via an API. You might have to grab it using a web scraper. You may be lucky and someone has already gathered it for you. You can process basically any textual data from many file formats."
   ]
  },
  {
   "cell_type": "code",
   "execution_count": 69,
   "id": "47d1ee8b-33bb-4ffa-a2bf-c2e07fc163f3",
   "metadata": {},
   "outputs": [],
   "source": [
    "import pandas as pd\n",
    "import numpy as np\n",
    "import matplotlib.pyplot as plt\n",
    "import seaborn as sns\n",
    "import nltk     #natural language toolkit"
   ]
  },
  {
   "cell_type": "markdown",
   "id": "2e5816cf-e838-4df8-a209-0dd90b74152a",
   "metadata": {},
   "source": [
    "### Import Sample Data from NLTK\n",
    "\n",
    "For starters, we will use some sample data that I am providing to you. This is data from Amazon.com for product reviews.\n",
    "\n",
    "There are more than 500,000 rows of data in this dataset so it is big! There are 10 columns for each review but today we will be concerned really only with the \"Score\", \"Summary\", and \"Text\" columns."
   ]
  },
  {
   "cell_type": "code",
   "execution_count": 70,
   "id": "a5dd32c1-9559-4902-91e8-a5b3fbff8ec7",
   "metadata": {},
   "outputs": [],
   "source": [
    "data = pd.read_csv('/Users/ep9k/Desktop/sentiment_analysis/Reviews.csv')"
   ]
  },
  {
   "cell_type": "code",
   "execution_count": 71,
   "id": "48d6ed84-6fbd-4cbc-9a55-980c37fda353",
   "metadata": {},
   "outputs": [
    {
     "name": "stdout",
     "output_type": "stream",
     "text": [
      "            Id   ProductId          UserId                      ProfileName  \\\n",
      "0            1  B001E4KFG0  A3SGXH7AUHU8GW                       delmartian   \n",
      "1            2  B00813GRG4  A1D87F6ZCVE5NK                           dll pa   \n",
      "2            3  B000LQOCH0   ABXLMWJIXXAIN  Natalia Corres \"Natalia Corres\"   \n",
      "3            4  B000UA0QIQ  A395BORC6FGVXV                             Karl   \n",
      "4            5  B006K2ZZ7K  A1UQRSCLF8GW1T    Michael D. Bigham \"M. Wassir\"   \n",
      "...        ...         ...             ...                              ...   \n",
      "568449  568450  B001EO7N10  A28KG5XORO54AY                 Lettie D. Carter   \n",
      "568450  568451  B003S1WTCU  A3I8AFVPEE8KI5                        R. Sawyer   \n",
      "568451  568452  B004I613EE  A121AA1GQV751Z                    pksd \"pk_007\"   \n",
      "568452  568453  B004I613EE   A3IBEVCTXKNOH          Kathy A. Welch \"katwel\"   \n",
      "568453  568454  B001LR2CU2  A3LGQPJCZVL9UC                         srfell17   \n",
      "\n",
      "        HelpfulnessNumerator  HelpfulnessDenominator  Score        Time  \\\n",
      "0                          1                       1      5  1303862400   \n",
      "1                          0                       0      1  1346976000   \n",
      "2                          1                       1      4  1219017600   \n",
      "3                          3                       3      2  1307923200   \n",
      "4                          0                       0      5  1350777600   \n",
      "...                      ...                     ...    ...         ...   \n",
      "568449                     0                       0      5  1299628800   \n",
      "568450                     0                       0      2  1331251200   \n",
      "568451                     2                       2      5  1329782400   \n",
      "568452                     1                       1      5  1331596800   \n",
      "568453                     0                       0      5  1338422400   \n",
      "\n",
      "                                   Summary  \\\n",
      "0                    Good Quality Dog Food   \n",
      "1                        Not as Advertised   \n",
      "2                    \"Delight\" says it all   \n",
      "3                           Cough Medicine   \n",
      "4                              Great taffy   \n",
      "...                                    ...   \n",
      "568449                 Will not do without   \n",
      "568450                        disappointed   \n",
      "568451            Perfect for our maltipoo   \n",
      "568452  Favorite Training and reward treat   \n",
      "568453                         Great Honey   \n",
      "\n",
      "                                                     Text  \n",
      "0       I have bought several of the Vitality canned d...  \n",
      "1       Product arrived labeled as Jumbo Salted Peanut...  \n",
      "2       This is a confection that has been around a fe...  \n",
      "3       If you are looking for the secret ingredient i...  \n",
      "4       Great taffy at a great price.  There was a wid...  \n",
      "...                                                   ...  \n",
      "568449  Great for sesame chicken..this is a good if no...  \n",
      "568450  I'm disappointed with the flavor. The chocolat...  \n",
      "568451  These stars are small, so you can give 10-15 o...  \n",
      "568452  These are the BEST treats for training and rew...  \n",
      "568453  I am very satisfied ,product is as advertised,...  \n",
      "\n",
      "[568454 rows x 10 columns]\n"
     ]
    }
   ],
   "source": [
    "print(data)"
   ]
  },
  {
   "cell_type": "markdown",
   "id": "613bae6d-b76f-4232-a436-51e53fec74bc",
   "metadata": {},
   "source": [
    "Let's see the text of just the first row of the dataset"
   ]
  },
  {
   "cell_type": "code",
   "execution_count": 72,
   "id": "35089cca-b397-4f99-842d-134520282718",
   "metadata": {},
   "outputs": [
    {
     "name": "stdout",
     "output_type": "stream",
     "text": [
      "I have bought several of the Vitality canned dog food products and have found them all to be of good quality. The product looks more like a stew than a processed meat and it smells better. My Labrador is finicky and she appreciates this product better than  most.\n"
     ]
    }
   ],
   "source": [
    "# show the text of just the first review\n",
    "print(data['Text'][0])\n"
   ]
  },
  {
   "cell_type": "markdown",
   "id": "447bce9d-c0c1-4e1c-916e-a21ad853053a",
   "metadata": {},
   "source": [
    "Here you can see the size and shape of the test data. There are over 500,000 reviews in this dataset so let's make it smaller, just for our the purposes of our workshop today."
   ]
  },
  {
   "cell_type": "code",
   "execution_count": 76,
   "id": "a2b1476e-1d5f-4fe3-af79-c3ea8d7732ea",
   "metadata": {},
   "outputs": [
    {
     "data": {
      "text/plain": [
       "(568454, 10)"
      ]
     },
     "execution_count": 76,
     "metadata": {},
     "output_type": "execute_result"
    }
   ],
   "source": [
    "data.shape\n"
   ]
  },
  {
   "cell_type": "code",
   "execution_count": 77,
   "id": "bbccc4a1-3f26-4190-98d1-37c6d77f1540",
   "metadata": {},
   "outputs": [],
   "source": [
    "# I am simplifying the dataset to just the first 500 reviews\n",
    "data = data.head(500)"
   ]
  },
  {
   "cell_type": "markdown",
   "id": "73d6df3a-cfc8-4358-a21f-8848bf9aaabd",
   "metadata": {},
   "source": [
    "# Exploratory Data Analysis (EDA)\n",
    "Let's play with the data to see what is in it. There are a lot of reasons for doing this, but basically EDA's main purpose is to explore the data and understand it more before making assumptions about it. This might also help you identify outliers, and find interesting relationships between the variables."
   ]
  },
  {
   "cell_type": "markdown",
   "id": "edb44e9e-4d4e-46f9-90d8-5db7d54ae9c8",
   "metadata": {},
   "source": [
    "Products have a score of 1-5. This is basically a star rating. Let's see how many times each score occurs"
   ]
  },
  {
   "cell_type": "code",
   "execution_count": 78,
   "id": "f40b7e11-e9ad-4826-a4ab-6e1aed4170b4",
   "metadata": {},
   "outputs": [
    {
     "data": {
      "text/plain": [
       "5    339\n",
       "4     70\n",
       "3     37\n",
       "1     36\n",
       "2     18\n",
       "Name: Score, dtype: int64"
      ]
     },
     "execution_count": 78,
     "metadata": {},
     "output_type": "execute_result"
    }
   ],
   "source": [
    "data['Score'].value_counts()"
   ]
  },
  {
   "cell_type": "markdown",
   "id": "3e6cbd35-b7a4-4bb6-a472-a06a2ad54fc7",
   "metadata": {},
   "source": [
    "Let's use Matplotlib to visualize the data in a plot"
   ]
  },
  {
   "cell_type": "code",
   "execution_count": 83,
   "id": "83ee8bcd-4aa4-468f-a12b-49224641e76d",
   "metadata": {},
   "outputs": [
    {
     "data": {
      "image/png": "[encoded data removed]",
      "text/plain": [
       "<Figure size 720x360 with 1 Axes>"
      ]
     },
     "metadata": {
      "needs_background": "light"
     },
     "output_type": "display_data"
    }
   ],
   "source": [
    "ax = data['Score'].value_counts().sort_index().plot(kind='bar',\n",
    "                                                    title='Count of Reviews by Stars',\n",
    "                                                    figsize=(10, 5))\n",
    "ax.set_xlabel('Review Rating')\n",
    "plt.show()"
   ]
  },
  {
   "cell_type": "markdown",
   "id": "ff346762-0f55-4754-8a6a-1119ee9baf1e",
   "metadata": {},
   "source": [
    "It looks like there are a lot of 5 star reviews. I assume this means the corresponding 'text' for each review will be positive. We will test this assumption later. First we need to process the text some more."
   ]
  },
  {
   "cell_type": "markdown",
   "id": "d2763c4f-8317-4b24-87ca-3d7ddac0698e",
   "metadata": {},
   "source": [
    "# NLTK Basics\n",
    "\n",
    "NLTK (Natural Language Toolkit) is a python library for working with human language data. It is just one of many libraries which you can use for Natural Language Processing. A lot of the data you might be analyzing is unstructured data (aka human text). Before you can analyze data programmatically, you need to do some pre-processing. \n",
    "\n",
    "Let's start by processing the text of one review"
   ]
  },
  {
   "cell_type": "code",
   "execution_count": 86,
   "id": "f33f67d3-44af-40ad-9589-1503d1076004",
   "metadata": {},
   "outputs": [
    {
     "name": "stdout",
     "output_type": "stream",
     "text": [
      "This oatmeal is not good. Its mushy, soft, I don't like it. Quaker Oats is the way to go.\n"
     ]
    }
   ],
   "source": [
    "# getting text of one review\n",
    "example_text = data['Text'][50]\n",
    "print(example_text)"
   ]
  },
  {
   "cell_type": "markdown",
   "id": "b47a0133-f906-4661-a9e4-4e8a7ae4821c",
   "metadata": {},
   "source": [
    "## Tokenization\n",
    "\n",
    "Tokenization is the process of breaking textual data into words, terms, sentences, or some other meaninful chunk as discrete elements. After data gathering and maybe some EDA, tokenization is often the next step in the NLP workflow. The effect of this process is it breaks the text into a data structure that the computer can interpret."
   ]
  },
  {
   "cell_type": "markdown",
   "id": "fc50b04c-8260-4437-aada-2fce331a480a",
   "metadata": {},
   "source": [
    "NLTK allows tokenization out of the box with word_tokenize(). However, it is a little bit messy"
   ]
  },
  {
   "cell_type": "code",
   "execution_count": 85,
   "id": "c84f0b6c-d2d3-465d-bf5c-fd8d7645a924",
   "metadata": {},
   "outputs": [
    {
     "name": "stdout",
     "output_type": "stream",
     "text": [
      "['This', 'oatmeal', 'is', 'not', 'good', '.', 'Its', 'mushy', ',', 'soft', ',', 'I', 'do', \"n't\", 'like', 'it', '.', 'Quaker', 'Oats', 'is', 'the', 'way', 'to', 'go', '.']\n"
     ]
    }
   ],
   "source": [
    "tokens = nltk.word_tokenize(example_text)\n",
    "print(tokens)"
   ]
  },
  {
   "cell_type": "markdown",
   "id": "99a9f7f8-5e8e-46f2-94bb-99d39a94055d",
   "metadata": {},
   "source": [
    "## Part of Speech\n",
    "We can find the part of speech for each token. [Here](https://pythonprogramming.net/natural-language-toolkit-nltk-part-speech-tagging/) is a (complete?) list of NLTK's parts of speech. \n",
    "\n",
    "We don't really need the part of speech for our later exercises today but this is useful and you might want this in the future."
   ]
  },
  {
   "cell_type": "code",
   "execution_count": 88,
   "id": "71cdee95-386c-4fc3-9dec-be86ae96f1fd",
   "metadata": {},
   "outputs": [
    {
     "data": {
      "text/plain": [
       "[('This', 'DT'),\n",
       " ('oatmeal', 'NN'),\n",
       " ('is', 'VBZ'),\n",
       " ('not', 'RB'),\n",
       " ('good', 'JJ'),\n",
       " ('.', '.'),\n",
       " ('Its', 'PRP$'),\n",
       " ('mushy', 'NN'),\n",
       " (',', ','),\n",
       " ('soft', 'JJ'),\n",
       " (',', ','),\n",
       " ('I', 'PRP'),\n",
       " ('do', 'VBP'),\n",
       " (\"n't\", 'RB'),\n",
       " ('like', 'VB'),\n",
       " ('it', 'PRP'),\n",
       " ('.', '.'),\n",
       " ('Quaker', 'NNP'),\n",
       " ('Oats', 'NNPS'),\n",
       " ('is', 'VBZ'),\n",
       " ('the', 'DT'),\n",
       " ('way', 'NN'),\n",
       " ('to', 'TO'),\n",
       " ('go', 'VB'),\n",
       " ('.', '.')]"
      ]
     },
     "execution_count": 88,
     "metadata": {},
     "output_type": "execute_result"
    }
   ],
   "source": [
    "tagged = nltk.pos_tag(tokens)\n",
    "tagged"
   ]
  },
  {
   "cell_type": "markdown",
   "id": "63d19cf2-cb12-40d6-90fe-8b86e62a2049",
   "metadata": {},
   "source": [
    "### Vader Sentiment Scoring\n",
    "\n",
    "I introduced this model of sentiment analysis earlier but now for more details. The VADER model uses the \"bag of words\" approach to produce a sentiment score. This model takes all the words in your sentence/corpus and assigns a score to each word of positive, negative, neutral. Then the model takes the sum of all those scores and the result is the overall sentiment of that sentence. Stop words are removed from the scoring. Stop words are common words like \"the\", \"and\", \"a/an\" that don't contribute to the sentiment of a phrase or sentence. Keep in mind, this is a relatively simplistic way of performing sentiment analysis and does not take in to account the relationship between words. "
   ]
  },
  {
   "cell_type": "code",
   "execution_count": 92,
   "id": "6b7386de-31c3-4034-8b8c-1fb5a490f547",
   "metadata": {},
   "outputs": [],
   "source": [
    "from nltk.sentiment import SentimentIntensityAnalyzer"
   ]
  },
  {
   "cell_type": "code",
   "execution_count": 93,
   "id": "3e273ff1-4e27-4b37-8beb-09416d5d6a34",
   "metadata": {},
   "outputs": [],
   "source": [
    "sia = SentimentIntensityAnalyzer()"
   ]
  },
  {
   "cell_type": "markdown",
   "id": "d0787f92-fcf0-4033-9e4a-e78fbc1f5862",
   "metadata": {},
   "source": [
    "A few quick examples of the Sentiment Intensity Analyzer in action. First, a couple of individual words followed by a sentence."
   ]
  },
  {
   "cell_type": "code",
   "execution_count": 101,
   "id": "8842de40-58dd-4651-8499-105b28d20f5c",
   "metadata": {},
   "outputs": [
    {
     "data": {
      "text/plain": [
       "{'neg': 0.0, 'neu': 0.0, 'pos': 0.0, 'compound': 0.0}"
      ]
     },
     "execution_count": 101,
     "metadata": {},
     "output_type": "execute_result"
    }
   ],
   "source": [
    "sia.polarity_scores(\"I\")   # no score"
   ]
  },
  {
   "cell_type": "code",
   "execution_count": 102,
   "id": "a60a0eff-cdaa-42ef-a958-05df21c61b96",
   "metadata": {},
   "outputs": [
    {
     "data": {
      "text/plain": [
       "{'neg': 0.0, 'neu': 1.0, 'pos': 0.0, 'compound': 0.0}"
      ]
     },
     "execution_count": 102,
     "metadata": {},
     "output_type": "execute_result"
    }
   ],
   "source": [
    "sia.polarity_scores(\"am\")"
   ]
  },
  {
   "cell_type": "code",
   "execution_count": 103,
   "id": "6bf114c0-8296-45d2-8235-a52349f96ca0",
   "metadata": {},
   "outputs": [
    {
     "data": {
      "text/plain": [
       "{'neg': 0.0, 'neu': 1.0, 'pos': 0.0, 'compound': 0.0}"
      ]
     },
     "execution_count": 103,
     "metadata": {},
     "output_type": "execute_result"
    }
   ],
   "source": [
    "sia.polarity_scores(\"so\")"
   ]
  },
  {
   "cell_type": "code",
   "execution_count": 105,
   "id": "c3449deb-935e-407d-8672-9c2527d1b9aa",
   "metadata": {},
   "outputs": [
    {
     "data": {
      "text/plain": [
       "{'neg': 0.0, 'neu': 0.0, 'pos': 1.0, 'compound': 0.6114}"
      ]
     },
     "execution_count": 105,
     "metadata": {},
     "output_type": "execute_result"
    }
   ],
   "source": [
    "sia.polarity_scores(\"happy!\")"
   ]
  },
  {
   "cell_type": "markdown",
   "id": "aa5b4282-85bf-4d7c-9f98-59f918c89a31",
   "metadata": {},
   "source": [
    "All together now"
   ]
  },
  {
   "cell_type": "code",
   "execution_count": 109,
   "id": "a12fbaa4-58af-4b47-9566-1cf17522e4d3",
   "metadata": {},
   "outputs": [
    {
     "data": {
      "text/plain": [
       "{'neg': 0.0, 'neu': 0.318, 'pos': 0.682, 'compound': 0.6468}"
      ]
     },
     "execution_count": 109,
     "metadata": {},
     "output_type": "execute_result"
    }
   ],
   "source": [
    "sia.polarity_scores('I am so happy!')"
   ]
  },
  {
   "cell_type": "markdown",
   "id": "0ec59adc-2cad-4307-a703-7d567d267070",
   "metadata": {},
   "source": [
    "Punctuation also has an impact. The same sentence without the '!' is scored less positively"
   ]
  },
  {
   "cell_type": "code",
   "execution_count": 110,
   "id": "7ed4409c-94f0-4e30-9da1-08dc6902ac15",
   "metadata": {},
   "outputs": [
    {
     "data": {
      "text/plain": [
       "{'neg': 0.0, 'neu': 0.334, 'pos': 0.666, 'compound': 0.6115}"
      ]
     },
     "execution_count": 110,
     "metadata": {},
     "output_type": "execute_result"
    }
   ],
   "source": [
    "sia.polarity_scores(\"I am so happy\")"
   ]
  },
  {
   "cell_type": "markdown",
   "id": "bca2bf43-2304-4683-b6c9-ba9e438e6c00",
   "metadata": {},
   "source": [
    "The compound score has a range of values from -1 to +1 to rate how positive (+1) or negative (-1) a statement is. "
   ]
  },
  {
   "cell_type": "code",
   "execution_count": 107,
   "id": "c4b4e036-eae0-4873-a806-9941fd3e8c27",
   "metadata": {},
   "outputs": [
    {
     "data": {
      "text/plain": [
       "{'neg': 0.594, 'neu': 0.406, 'pos': 0.0, 'compound': -0.6588}"
      ]
     },
     "execution_count": 107,
     "metadata": {},
     "output_type": "execute_result"
    }
   ],
   "source": [
    "sia.polarity_scores('This is the worst!')"
   ]
  },
  {
   "cell_type": "markdown",
   "id": "58680ce2-b603-43ff-98e0-95a1e6eaae33",
   "metadata": {},
   "source": [
    "Now let's run this on our example text from earlier"
   ]
  },
  {
   "cell_type": "code",
   "execution_count": 111,
   "id": "1a1b3cac-10f3-4f1c-839e-e580577fd501",
   "metadata": {},
   "outputs": [
    {
     "name": "stdout",
     "output_type": "stream",
     "text": [
      "This oatmeal is not good. Its mushy, soft, I don't like it. Quaker Oats is the way to go.\n"
     ]
    },
    {
     "data": {
      "text/plain": [
       "{'neg': 0.22, 'neu': 0.78, 'pos': 0.0, 'compound': -0.5448}"
      ]
     },
     "execution_count": 111,
     "metadata": {},
     "output_type": "execute_result"
    }
   ],
   "source": [
    "print(example_text)\n",
    "sia.polarity_scores(example_text)"
   ]
  },
  {
   "cell_type": "markdown",
   "id": "36f6e2b4-e0af-4626-961c-4112a7ee912a",
   "metadata": {},
   "source": [
    "Now let's run it on our entire dataset"
   ]
  },
  {
   "cell_type": "code",
   "execution_count": 116,
   "id": "347a0314-d172-41df-bd24-73492dce951c",
   "metadata": {},
   "outputs": [],
   "source": [
    "# makes a dictionary which holds the polarity score of each review\n",
    "\n",
    "results = {}\n",
    "\n",
    "for i, row in data.iterrows():\n",
    "    text = row['Text']\n",
    "    myId = row['Id']\n",
    "    results[myId] = sia.polarity_scores(text)\n",
    "    "
   ]
  },
  {
   "cell_type": "code",
   "execution_count": 113,
   "id": "b0bb44e3-fec8-490b-bca5-6cc1e712ed15",
   "metadata": {},
   "outputs": [
    {
     "data": {
      "text/html": [
       "<div>\n",
       "<style scoped>\n",
       "    .dataframe tbody tr th:only-of-type {\n",
       "        vertical-align: middle;\n",
       "    }\n",
       "\n",
       "    .dataframe tbody tr th {\n",
       "        vertical-align: top;\n",
       "    }\n",
       "\n",
       "    .dataframe thead th {\n",
       "        text-align: right;\n",
       "    }\n",
       "</style>\n",
       "<table border=\"1\" class=\"dataframe\">\n",
       "  <thead>\n",
       "    <tr style=\"text-align: right;\">\n",
       "      <th></th>\n",
       "      <th>Id</th>\n",
       "      <th>neg</th>\n",
       "      <th>neu</th>\n",
       "      <th>pos</th>\n",
       "      <th>compound</th>\n",
       "    </tr>\n",
       "  </thead>\n",
       "  <tbody>\n",
       "    <tr>\n",
       "      <th>0</th>\n",
       "      <td>1</td>\n",
       "      <td>0.000</td>\n",
       "      <td>0.695</td>\n",
       "      <td>0.305</td>\n",
       "      <td>0.9441</td>\n",
       "    </tr>\n",
       "    <tr>\n",
       "      <th>1</th>\n",
       "      <td>2</td>\n",
       "      <td>0.138</td>\n",
       "      <td>0.862</td>\n",
       "      <td>0.000</td>\n",
       "      <td>-0.5664</td>\n",
       "    </tr>\n",
       "    <tr>\n",
       "      <th>2</th>\n",
       "      <td>3</td>\n",
       "      <td>0.091</td>\n",
       "      <td>0.754</td>\n",
       "      <td>0.155</td>\n",
       "      <td>0.8265</td>\n",
       "    </tr>\n",
       "    <tr>\n",
       "      <th>3</th>\n",
       "      <td>4</td>\n",
       "      <td>0.000</td>\n",
       "      <td>1.000</td>\n",
       "      <td>0.000</td>\n",
       "      <td>0.0000</td>\n",
       "    </tr>\n",
       "    <tr>\n",
       "      <th>4</th>\n",
       "      <td>5</td>\n",
       "      <td>0.000</td>\n",
       "      <td>0.552</td>\n",
       "      <td>0.448</td>\n",
       "      <td>0.9468</td>\n",
       "    </tr>\n",
       "    <tr>\n",
       "      <th>...</th>\n",
       "      <td>...</td>\n",
       "      <td>...</td>\n",
       "      <td>...</td>\n",
       "      <td>...</td>\n",
       "      <td>...</td>\n",
       "    </tr>\n",
       "    <tr>\n",
       "      <th>495</th>\n",
       "      <td>496</td>\n",
       "      <td>0.000</td>\n",
       "      <td>0.554</td>\n",
       "      <td>0.446</td>\n",
       "      <td>0.9725</td>\n",
       "    </tr>\n",
       "    <tr>\n",
       "      <th>496</th>\n",
       "      <td>497</td>\n",
       "      <td>0.059</td>\n",
       "      <td>0.799</td>\n",
       "      <td>0.142</td>\n",
       "      <td>0.7833</td>\n",
       "    </tr>\n",
       "    <tr>\n",
       "      <th>497</th>\n",
       "      <td>498</td>\n",
       "      <td>0.025</td>\n",
       "      <td>0.762</td>\n",
       "      <td>0.212</td>\n",
       "      <td>0.9848</td>\n",
       "    </tr>\n",
       "    <tr>\n",
       "      <th>498</th>\n",
       "      <td>499</td>\n",
       "      <td>0.041</td>\n",
       "      <td>0.904</td>\n",
       "      <td>0.055</td>\n",
       "      <td>0.1280</td>\n",
       "    </tr>\n",
       "    <tr>\n",
       "      <th>499</th>\n",
       "      <td>500</td>\n",
       "      <td>0.000</td>\n",
       "      <td>0.678</td>\n",
       "      <td>0.322</td>\n",
       "      <td>0.9811</td>\n",
       "    </tr>\n",
       "  </tbody>\n",
       "</table>\n",
       "<p>500 rows × 5 columns</p>\n",
       "</div>"
      ],
      "text/plain": [
       "      Id    neg    neu    pos  compound\n",
       "0      1  0.000  0.695  0.305    0.9441\n",
       "1      2  0.138  0.862  0.000   -0.5664\n",
       "2      3  0.091  0.754  0.155    0.8265\n",
       "3      4  0.000  1.000  0.000    0.0000\n",
       "4      5  0.000  0.552  0.448    0.9468\n",
       "..   ...    ...    ...    ...       ...\n",
       "495  496  0.000  0.554  0.446    0.9725\n",
       "496  497  0.059  0.799  0.142    0.7833\n",
       "497  498  0.025  0.762  0.212    0.9848\n",
       "498  499  0.041  0.904  0.055    0.1280\n",
       "499  500  0.000  0.678  0.322    0.9811\n",
       "\n",
       "[500 rows x 5 columns]"
      ]
     },
     "execution_count": 113,
     "metadata": {},
     "output_type": "execute_result"
    }
   ],
   "source": [
    "vaders = pd.DataFrame(results).T\n",
    "\n",
    "#this line sets the index column and calls it 'id'\n",
    "vaders = vaders.reset_index().rename(columns={'index':'Id'})    \n",
    "\n",
    "vaders\n"
   ]
  },
  {
   "cell_type": "markdown",
   "id": "f84a31dc-079a-4a39-b0ab-f152ae09a8a2",
   "metadata": {},
   "source": [
    "Now let's merge our vaders sentiment scores with our original dataframe. Now we have sentiment score and metadata added to our original data. "
   ]
  },
  {
   "cell_type": "code",
   "execution_count": 117,
   "id": "ecb776e7-8a36-492d-bd3c-9573ef83e04d",
   "metadata": {},
   "outputs": [
    {
     "data": {
      "text/html": [
       "<div>\n",
       "<style scoped>\n",
       "    .dataframe tbody tr th:only-of-type {\n",
       "        vertical-align: middle;\n",
       "    }\n",
       "\n",
       "    .dataframe tbody tr th {\n",
       "        vertical-align: top;\n",
       "    }\n",
       "\n",
       "    .dataframe thead th {\n",
       "        text-align: right;\n",
       "    }\n",
       "</style>\n",
       "<table border=\"1\" class=\"dataframe\">\n",
       "  <thead>\n",
       "    <tr style=\"text-align: right;\">\n",
       "      <th></th>\n",
       "      <th>Id</th>\n",
       "      <th>ProductId</th>\n",
       "      <th>UserId</th>\n",
       "      <th>ProfileName</th>\n",
       "      <th>HelpfulnessNumerator</th>\n",
       "      <th>HelpfulnessDenominator</th>\n",
       "      <th>Score</th>\n",
       "      <th>Time</th>\n",
       "      <th>Summary</th>\n",
       "      <th>Text</th>\n",
       "      <th>neg</th>\n",
       "      <th>neu</th>\n",
       "      <th>pos</th>\n",
       "      <th>compound</th>\n",
       "    </tr>\n",
       "  </thead>\n",
       "  <tbody>\n",
       "    <tr>\n",
       "      <th>0</th>\n",
       "      <td>1</td>\n",
       "      <td>B001E4KFG0</td>\n",
       "      <td>A3SGXH7AUHU8GW</td>\n",
       "      <td>delmartian</td>\n",
       "      <td>1</td>\n",
       "      <td>1</td>\n",
       "      <td>5</td>\n",
       "      <td>1303862400</td>\n",
       "      <td>Good Quality Dog Food</td>\n",
       "      <td>I have bought several of the Vitality canned d...</td>\n",
       "      <td>0.000</td>\n",
       "      <td>0.695</td>\n",
       "      <td>0.305</td>\n",
       "      <td>0.9441</td>\n",
       "    </tr>\n",
       "    <tr>\n",
       "      <th>1</th>\n",
       "      <td>2</td>\n",
       "      <td>B00813GRG4</td>\n",
       "      <td>A1D87F6ZCVE5NK</td>\n",
       "      <td>dll pa</td>\n",
       "      <td>0</td>\n",
       "      <td>0</td>\n",
       "      <td>1</td>\n",
       "      <td>1346976000</td>\n",
       "      <td>Not as Advertised</td>\n",
       "      <td>Product arrived labeled as Jumbo Salted Peanut...</td>\n",
       "      <td>0.138</td>\n",
       "      <td>0.862</td>\n",
       "      <td>0.000</td>\n",
       "      <td>-0.5664</td>\n",
       "    </tr>\n",
       "    <tr>\n",
       "      <th>2</th>\n",
       "      <td>3</td>\n",
       "      <td>B000LQOCH0</td>\n",
       "      <td>ABXLMWJIXXAIN</td>\n",
       "      <td>Natalia Corres \"Natalia Corres\"</td>\n",
       "      <td>1</td>\n",
       "      <td>1</td>\n",
       "      <td>4</td>\n",
       "      <td>1219017600</td>\n",
       "      <td>\"Delight\" says it all</td>\n",
       "      <td>This is a confection that has been around a fe...</td>\n",
       "      <td>0.091</td>\n",
       "      <td>0.754</td>\n",
       "      <td>0.155</td>\n",
       "      <td>0.8265</td>\n",
       "    </tr>\n",
       "    <tr>\n",
       "      <th>3</th>\n",
       "      <td>4</td>\n",
       "      <td>B000UA0QIQ</td>\n",
       "      <td>A395BORC6FGVXV</td>\n",
       "      <td>Karl</td>\n",
       "      <td>3</td>\n",
       "      <td>3</td>\n",
       "      <td>2</td>\n",
       "      <td>1307923200</td>\n",
       "      <td>Cough Medicine</td>\n",
       "      <td>If you are looking for the secret ingredient i...</td>\n",
       "      <td>0.000</td>\n",
       "      <td>1.000</td>\n",
       "      <td>0.000</td>\n",
       "      <td>0.0000</td>\n",
       "    </tr>\n",
       "    <tr>\n",
       "      <th>4</th>\n",
       "      <td>5</td>\n",
       "      <td>B006K2ZZ7K</td>\n",
       "      <td>A1UQRSCLF8GW1T</td>\n",
       "      <td>Michael D. Bigham \"M. Wassir\"</td>\n",
       "      <td>0</td>\n",
       "      <td>0</td>\n",
       "      <td>5</td>\n",
       "      <td>1350777600</td>\n",
       "      <td>Great taffy</td>\n",
       "      <td>Great taffy at a great price.  There was a wid...</td>\n",
       "      <td>0.000</td>\n",
       "      <td>0.552</td>\n",
       "      <td>0.448</td>\n",
       "      <td>0.9468</td>\n",
       "    </tr>\n",
       "  </tbody>\n",
       "</table>\n",
       "</div>"
      ],
      "text/plain": [
       "   Id   ProductId          UserId                      ProfileName  \\\n",
       "0   1  B001E4KFG0  A3SGXH7AUHU8GW                       delmartian   \n",
       "1   2  B00813GRG4  A1D87F6ZCVE5NK                           dll pa   \n",
       "2   3  B000LQOCH0   ABXLMWJIXXAIN  Natalia Corres \"Natalia Corres\"   \n",
       "3   4  B000UA0QIQ  A395BORC6FGVXV                             Karl   \n",
       "4   5  B006K2ZZ7K  A1UQRSCLF8GW1T    Michael D. Bigham \"M. Wassir\"   \n",
       "\n",
       "   HelpfulnessNumerator  HelpfulnessDenominator  Score        Time  \\\n",
       "0                     1                       1      5  1303862400   \n",
       "1                     0                       0      1  1346976000   \n",
       "2                     1                       1      4  1219017600   \n",
       "3                     3                       3      2  1307923200   \n",
       "4                     0                       0      5  1350777600   \n",
       "\n",
       "                 Summary                                               Text  \\\n",
       "0  Good Quality Dog Food  I have bought several of the Vitality canned d...   \n",
       "1      Not as Advertised  Product arrived labeled as Jumbo Salted Peanut...   \n",
       "2  \"Delight\" says it all  This is a confection that has been around a fe...   \n",
       "3         Cough Medicine  If you are looking for the secret ingredient i...   \n",
       "4            Great taffy  Great taffy at a great price.  There was a wid...   \n",
       "\n",
       "     neg    neu    pos  compound  \n",
       "0  0.000  0.695  0.305    0.9441  \n",
       "1  0.138  0.862  0.000   -0.5664  \n",
       "2  0.091  0.754  0.155    0.8265  \n",
       "3  0.000  1.000  0.000    0.0000  \n",
       "4  0.000  0.552  0.448    0.9468  "
      ]
     },
     "execution_count": 117,
     "metadata": {},
     "output_type": "execute_result"
    }
   ],
   "source": [
    "#it is actually very easy to do\n",
    "data = data.merge(vaders, how='left')\n",
    "\n",
    "data.head()"
   ]
  },
  {
   "cell_type": "markdown",
   "id": "57c0c3fc-68fd-40a6-a30f-5c208640db3f",
   "metadata": {},
   "source": [
    "### Testing Assumptions\n",
    "\n",
    "Let's now test some of our assumptions. I would assume that if a reviewer gave a product a 5 star review, then the text would have a positive sentiment. Accordingly, a one star review would have text with a negative sentiment. \n",
    "\n",
    "To start, I'll look at the sentiments of 5 star and 1 star reviews. Then we will visualize the data."
   ]
  },
  {
   "cell_type": "code",
   "execution_count": 131,
   "id": "ef0023cf-aab1-4ab2-bfe5-dc26e311cee0",
   "metadata": {},
   "outputs": [
    {
     "data": {
      "text/html": [
       "<div>\n",
       "<style scoped>\n",
       "    .dataframe tbody tr th:only-of-type {\n",
       "        vertical-align: middle;\n",
       "    }\n",
       "\n",
       "    .dataframe tbody tr th {\n",
       "        vertical-align: top;\n",
       "    }\n",
       "\n",
       "    .dataframe thead th {\n",
       "        text-align: right;\n",
       "    }\n",
       "</style>\n",
       "<table border=\"1\" class=\"dataframe\">\n",
       "  <thead>\n",
       "    <tr style=\"text-align: right;\">\n",
       "      <th></th>\n",
       "      <th>Id</th>\n",
       "      <th>ProductId</th>\n",
       "      <th>UserId</th>\n",
       "      <th>ProfileName</th>\n",
       "      <th>HelpfulnessNumerator</th>\n",
       "      <th>HelpfulnessDenominator</th>\n",
       "      <th>Score</th>\n",
       "      <th>Time</th>\n",
       "      <th>Summary</th>\n",
       "      <th>Text</th>\n",
       "      <th>neg</th>\n",
       "      <th>neu</th>\n",
       "      <th>pos</th>\n",
       "      <th>compound</th>\n",
       "    </tr>\n",
       "  </thead>\n",
       "  <tbody>\n",
       "    <tr>\n",
       "      <th>0</th>\n",
       "      <td>1</td>\n",
       "      <td>B001E4KFG0</td>\n",
       "      <td>A3SGXH7AUHU8GW</td>\n",
       "      <td>delmartian</td>\n",
       "      <td>1</td>\n",
       "      <td>1</td>\n",
       "      <td>5</td>\n",
       "      <td>1303862400</td>\n",
       "      <td>Good Quality Dog Food</td>\n",
       "      <td>I have bought several of the Vitality canned d...</td>\n",
       "      <td>0.000</td>\n",
       "      <td>0.695</td>\n",
       "      <td>0.305</td>\n",
       "      <td>0.9441</td>\n",
       "    </tr>\n",
       "    <tr>\n",
       "      <th>4</th>\n",
       "      <td>5</td>\n",
       "      <td>B006K2ZZ7K</td>\n",
       "      <td>A1UQRSCLF8GW1T</td>\n",
       "      <td>Michael D. Bigham \"M. Wassir\"</td>\n",
       "      <td>0</td>\n",
       "      <td>0</td>\n",
       "      <td>5</td>\n",
       "      <td>1350777600</td>\n",
       "      <td>Great taffy</td>\n",
       "      <td>Great taffy at a great price.  There was a wid...</td>\n",
       "      <td>0.000</td>\n",
       "      <td>0.552</td>\n",
       "      <td>0.448</td>\n",
       "      <td>0.9468</td>\n",
       "    </tr>\n",
       "    <tr>\n",
       "      <th>6</th>\n",
       "      <td>7</td>\n",
       "      <td>B006K2ZZ7K</td>\n",
       "      <td>A1SP2KVKFXXRU1</td>\n",
       "      <td>David C. Sullivan</td>\n",
       "      <td>0</td>\n",
       "      <td>0</td>\n",
       "      <td>5</td>\n",
       "      <td>1340150400</td>\n",
       "      <td>Great!  Just as good as the expensive brands!</td>\n",
       "      <td>This saltwater taffy had great flavors and was...</td>\n",
       "      <td>0.034</td>\n",
       "      <td>0.693</td>\n",
       "      <td>0.273</td>\n",
       "      <td>0.9346</td>\n",
       "    </tr>\n",
       "    <tr>\n",
       "      <th>7</th>\n",
       "      <td>8</td>\n",
       "      <td>B006K2ZZ7K</td>\n",
       "      <td>A3JRGQVEQN31IQ</td>\n",
       "      <td>Pamela G. Williams</td>\n",
       "      <td>0</td>\n",
       "      <td>0</td>\n",
       "      <td>5</td>\n",
       "      <td>1336003200</td>\n",
       "      <td>Wonderful, tasty taffy</td>\n",
       "      <td>This taffy is so good.  It is very soft and ch...</td>\n",
       "      <td>0.000</td>\n",
       "      <td>0.520</td>\n",
       "      <td>0.480</td>\n",
       "      <td>0.9487</td>\n",
       "    </tr>\n",
       "    <tr>\n",
       "      <th>8</th>\n",
       "      <td>9</td>\n",
       "      <td>B000E7L2R4</td>\n",
       "      <td>A1MZYO9TZK0BBI</td>\n",
       "      <td>R. James</td>\n",
       "      <td>1</td>\n",
       "      <td>1</td>\n",
       "      <td>5</td>\n",
       "      <td>1322006400</td>\n",
       "      <td>Yay Barley</td>\n",
       "      <td>Right now I'm mostly just sprouting this so my...</td>\n",
       "      <td>0.000</td>\n",
       "      <td>0.851</td>\n",
       "      <td>0.149</td>\n",
       "      <td>0.6369</td>\n",
       "    </tr>\n",
       "  </tbody>\n",
       "</table>\n",
       "</div>"
      ],
      "text/plain": [
       "   Id   ProductId          UserId                    ProfileName  \\\n",
       "0   1  B001E4KFG0  A3SGXH7AUHU8GW                     delmartian   \n",
       "4   5  B006K2ZZ7K  A1UQRSCLF8GW1T  Michael D. Bigham \"M. Wassir\"   \n",
       "6   7  B006K2ZZ7K  A1SP2KVKFXXRU1              David C. Sullivan   \n",
       "7   8  B006K2ZZ7K  A3JRGQVEQN31IQ             Pamela G. Williams   \n",
       "8   9  B000E7L2R4  A1MZYO9TZK0BBI                       R. James   \n",
       "\n",
       "   HelpfulnessNumerator  HelpfulnessDenominator  Score        Time  \\\n",
       "0                     1                       1      5  1303862400   \n",
       "4                     0                       0      5  1350777600   \n",
       "6                     0                       0      5  1340150400   \n",
       "7                     0                       0      5  1336003200   \n",
       "8                     1                       1      5  1322006400   \n",
       "\n",
       "                                         Summary  \\\n",
       "0                          Good Quality Dog Food   \n",
       "4                                    Great taffy   \n",
       "6  Great!  Just as good as the expensive brands!   \n",
       "7                         Wonderful, tasty taffy   \n",
       "8                                     Yay Barley   \n",
       "\n",
       "                                                Text    neg    neu    pos  \\\n",
       "0  I have bought several of the Vitality canned d...  0.000  0.695  0.305   \n",
       "4  Great taffy at a great price.  There was a wid...  0.000  0.552  0.448   \n",
       "6  This saltwater taffy had great flavors and was...  0.034  0.693  0.273   \n",
       "7  This taffy is so good.  It is very soft and ch...  0.000  0.520  0.480   \n",
       "8  Right now I'm mostly just sprouting this so my...  0.000  0.851  0.149   \n",
       "\n",
       "   compound  \n",
       "0    0.9441  \n",
       "4    0.9468  \n",
       "6    0.9346  \n",
       "7    0.9487  \n",
       "8    0.6369  "
      ]
     },
     "execution_count": 131,
     "metadata": {},
     "output_type": "execute_result"
    }
   ],
   "source": [
    "five_stars = data.loc[data['Score'] == 5]\n",
    "# limit results to just the first 10 \n",
    "five_stars = five_stars.head()\n",
    "\n",
    "five_stars"
   ]
  },
  {
   "cell_type": "markdown",
   "id": "1fdbd699-57e8-4524-89d9-301737975a0e",
   "metadata": {},
   "source": [
    "From looking at the five star results, it does indeed look like they have positive sentiment scores. In fact, most of them have a very positive sentiment score. "
   ]
  },
  {
   "cell_type": "code",
   "execution_count": 134,
   "id": "0532b44b-3253-46b5-84d6-ecd7b2e2d6ec",
   "metadata": {},
   "outputs": [
    {
     "data": {
      "text/html": [
       "<div>\n",
       "<style scoped>\n",
       "    .dataframe tbody tr th:only-of-type {\n",
       "        vertical-align: middle;\n",
       "    }\n",
       "\n",
       "    .dataframe tbody tr th {\n",
       "        vertical-align: top;\n",
       "    }\n",
       "\n",
       "    .dataframe thead th {\n",
       "        text-align: right;\n",
       "    }\n",
       "</style>\n",
       "<table border=\"1\" class=\"dataframe\">\n",
       "  <thead>\n",
       "    <tr style=\"text-align: right;\">\n",
       "      <th></th>\n",
       "      <th>Id</th>\n",
       "      <th>ProductId</th>\n",
       "      <th>UserId</th>\n",
       "      <th>ProfileName</th>\n",
       "      <th>HelpfulnessNumerator</th>\n",
       "      <th>HelpfulnessDenominator</th>\n",
       "      <th>Score</th>\n",
       "      <th>Time</th>\n",
       "      <th>Summary</th>\n",
       "      <th>Text</th>\n",
       "      <th>neg</th>\n",
       "      <th>neu</th>\n",
       "      <th>pos</th>\n",
       "      <th>compound</th>\n",
       "    </tr>\n",
       "  </thead>\n",
       "  <tbody>\n",
       "    <tr>\n",
       "      <th>1</th>\n",
       "      <td>2</td>\n",
       "      <td>B00813GRG4</td>\n",
       "      <td>A1D87F6ZCVE5NK</td>\n",
       "      <td>dll pa</td>\n",
       "      <td>0</td>\n",
       "      <td>0</td>\n",
       "      <td>1</td>\n",
       "      <td>1346976000</td>\n",
       "      <td>Not as Advertised</td>\n",
       "      <td>Product arrived labeled as Jumbo Salted Peanut...</td>\n",
       "      <td>0.138</td>\n",
       "      <td>0.862</td>\n",
       "      <td>0.000</td>\n",
       "      <td>-0.5664</td>\n",
       "    </tr>\n",
       "    <tr>\n",
       "      <th>12</th>\n",
       "      <td>13</td>\n",
       "      <td>B0009XLVG0</td>\n",
       "      <td>A327PCT23YH90</td>\n",
       "      <td>LT</td>\n",
       "      <td>1</td>\n",
       "      <td>1</td>\n",
       "      <td>1</td>\n",
       "      <td>1339545600</td>\n",
       "      <td>My Cats Are Not Fans of the New Food</td>\n",
       "      <td>My cats have been happily eating Felidae Plati...</td>\n",
       "      <td>0.031</td>\n",
       "      <td>0.923</td>\n",
       "      <td>0.046</td>\n",
       "      <td>0.2960</td>\n",
       "    </tr>\n",
       "    <tr>\n",
       "      <th>26</th>\n",
       "      <td>27</td>\n",
       "      <td>B001GVISJM</td>\n",
       "      <td>A3RXAU2N8KV45G</td>\n",
       "      <td>lady21</td>\n",
       "      <td>0</td>\n",
       "      <td>1</td>\n",
       "      <td>1</td>\n",
       "      <td>1332633600</td>\n",
       "      <td>Nasty No flavor</td>\n",
       "      <td>The candy is just red , No flavor . Just  plan...</td>\n",
       "      <td>0.128</td>\n",
       "      <td>0.872</td>\n",
       "      <td>0.000</td>\n",
       "      <td>-0.2960</td>\n",
       "    </tr>\n",
       "    <tr>\n",
       "      <th>50</th>\n",
       "      <td>51</td>\n",
       "      <td>B001EO5QW8</td>\n",
       "      <td>A108P30XVUFKXY</td>\n",
       "      <td>Roberto A</td>\n",
       "      <td>0</td>\n",
       "      <td>7</td>\n",
       "      <td>1</td>\n",
       "      <td>1203379200</td>\n",
       "      <td>Don't like it</td>\n",
       "      <td>This oatmeal is not good. Its mushy, soft, I d...</td>\n",
       "      <td>0.220</td>\n",
       "      <td>0.780</td>\n",
       "      <td>0.000</td>\n",
       "      <td>-0.5448</td>\n",
       "    </tr>\n",
       "    <tr>\n",
       "      <th>62</th>\n",
       "      <td>63</td>\n",
       "      <td>B001EO5TPM</td>\n",
       "      <td>A1E09XGZUR78C6</td>\n",
       "      <td>gary sturrock</td>\n",
       "      <td>2</td>\n",
       "      <td>2</td>\n",
       "      <td>1</td>\n",
       "      <td>1215302400</td>\n",
       "      <td>stale product.</td>\n",
       "      <td>Arrived in 6 days and were so stale i could no...</td>\n",
       "      <td>0.000</td>\n",
       "      <td>1.000</td>\n",
       "      <td>0.000</td>\n",
       "      <td>0.0000</td>\n",
       "    </tr>\n",
       "  </tbody>\n",
       "</table>\n",
       "</div>"
      ],
      "text/plain": [
       "    Id   ProductId          UserId    ProfileName  HelpfulnessNumerator  \\\n",
       "1    2  B00813GRG4  A1D87F6ZCVE5NK         dll pa                     0   \n",
       "12  13  B0009XLVG0   A327PCT23YH90             LT                     1   \n",
       "26  27  B001GVISJM  A3RXAU2N8KV45G         lady21                     0   \n",
       "50  51  B001EO5QW8  A108P30XVUFKXY      Roberto A                     0   \n",
       "62  63  B001EO5TPM  A1E09XGZUR78C6  gary sturrock                     2   \n",
       "\n",
       "    HelpfulnessDenominator  Score        Time  \\\n",
       "1                        0      1  1346976000   \n",
       "12                       1      1  1339545600   \n",
       "26                       1      1  1332633600   \n",
       "50                       7      1  1203379200   \n",
       "62                       2      1  1215302400   \n",
       "\n",
       "                                 Summary  \\\n",
       "1                      Not as Advertised   \n",
       "12  My Cats Are Not Fans of the New Food   \n",
       "26                       Nasty No flavor   \n",
       "50                         Don't like it   \n",
       "62                        stale product.   \n",
       "\n",
       "                                                 Text    neg    neu    pos  \\\n",
       "1   Product arrived labeled as Jumbo Salted Peanut...  0.138  0.862  0.000   \n",
       "12  My cats have been happily eating Felidae Plati...  0.031  0.923  0.046   \n",
       "26  The candy is just red , No flavor . Just  plan...  0.128  0.872  0.000   \n",
       "50  This oatmeal is not good. Its mushy, soft, I d...  0.220  0.780  0.000   \n",
       "62  Arrived in 6 days and were so stale i could no...  0.000  1.000  0.000   \n",
       "\n",
       "    compound  \n",
       "1    -0.5664  \n",
       "12    0.2960  \n",
       "26   -0.2960  \n",
       "50   -0.5448  \n",
       "62    0.0000  "
      ]
     },
     "execution_count": 134,
     "metadata": {},
     "output_type": "execute_result"
    }
   ],
   "source": [
    "one_stars = data.loc[data['Score'] == 1]\n",
    "# limit results to just the first 10 \n",
    "one_stars = one_stars.head()\n",
    "\n",
    "one_stars"
   ]
  },
  {
   "cell_type": "markdown",
   "id": "255f0b8a-b5e7-4b51-ae19-603b65494f10",
   "metadata": {},
   "source": [
    "### Data Visualization\n",
    "\n",
    "I have already used a basic plotting library, MatPlotLib, to do a few bar plots. Now I'll use an alternative called Seaborn. Seaborn is an extension to MatPlotLib which allows more sophisticated statistical graphics. But it also looks nice for simple plots too."
   ]
  },
  {
   "cell_type": "code",
   "execution_count": 118,
   "id": "3ce5fbdb-3189-49aa-a837-8f9d5b7682c5",
   "metadata": {},
   "outputs": [
    {
     "data": {
      "image/png": "[encoded data removed]",
      "text/plain": [
       "<Figure size 1152x864 with 1 Axes>"
      ]
     },
     "metadata": {
      "needs_background": "light"
     },
     "output_type": "display_data"
    }
   ],
   "source": [
    "#overall compound score of each review\n",
    "ax = sns.barplot(data=data, x='Score', y='compound', ci=None)  #ci is for the confidence interval\n",
    "ax.set_title('Compound Score by Amazon Stars')\n",
    "plt.show()"
   ]
  },
  {
   "cell_type": "markdown",
   "id": "0b9035cc-2822-4ca3-bf1c-a0699b878a0a",
   "metadata": {},
   "source": [
    "Here you see a positive relationship between score and positive columns. Positivity score increases as the score increases. This means that one star reviews have less positive sentiment."
   ]
  },
  {
   "cell_type": "code",
   "execution_count": 135,
   "id": "b867cf7c-7f38-449d-add3-5467d0081dba",
   "metadata": {},
   "outputs": [
    {
     "data": {
      "image/png": "[encoded data removed]",
      "text/plain": [
       "<Figure size 1152x864 with 1 Axes>"
      ]
     },
     "metadata": {
      "needs_background": "light"
     },
     "output_type": "display_data"
    }
   ],
   "source": [
    "#positive sentiment score of each review\n",
    "ax = sns.barplot(data=data, x='Score', y='pos', ci=None)"
   ]
  },
  {
   "cell_type": "markdown",
   "id": "73018bc9-0bb7-44cc-9921-e15e0c4b98af",
   "metadata": {},
   "source": [
    "Here we have a negative relationship between score and negative columns. Negativity score decreases as score increases. This means that 5 star reviews have less negative sentiment."
   ]
  },
  {
   "cell_type": "code",
   "execution_count": 136,
   "id": "9e87df15-e94a-4c92-8ddc-73405f75668a",
   "metadata": {},
   "outputs": [
    {
     "data": {
      "image/png": "[encoded data removed]",
      "text/plain": [
       "<Figure size 1152x864 with 1 Axes>"
      ]
     },
     "metadata": {
      "needs_background": "light"
     },
     "output_type": "display_data"
    }
   ],
   "source": [
    "#negative sentiment score of each review\n",
    "ax = sns.barplot(data=data, x='Score', y='neg', ci=None)"
   ]
  },
  {
   "cell_type": "markdown",
   "id": "30eb179f-2f10-4542-91df-a7c7916cc781",
   "metadata": {},
   "source": [
    "Or you could be fancy and do them all together in one plot."
   ]
  },
  {
   "cell_type": "code",
   "execution_count": 137,
   "id": "7d7b07ce-d014-4dc9-8213-44907c876ba7",
   "metadata": {},
   "outputs": [
    {
     "data": {
      "image/png": "[encoded data removed]",
      "text/plain": [
       "<Figure size 864x216 with 2 Axes>"
      ]
     },
     "metadata": {
      "needs_background": "light"
     },
     "output_type": "display_data"
    }
   ],
   "source": [
    "\n",
    "fig, axs = plt.subplots(1, 2, figsize=(12, 3))\n",
    "sns.barplot(data=data, x='Score', y='pos', ax=axs[0], ci=None)\n",
    "sns.barplot(data=data, x='Score', y='neg', ax=axs[1], ci=None)\n",
    "axs[0].set_title('Positive')\n",
    "axs[1].set_title('Negative')\n",
    "plt.show()"
   ]
  },
  {
   "cell_type": "markdown",
   "id": "c7a345f7-0033-49fd-b386-ba60ead0eb49",
   "metadata": {},
   "source": [
    "## Example 2: TextBlob. A rules-based approach to scoring sentiment\n",
    "\n",
    "TextBlob is a library built on top of nltk. It provides some additional functionality such as rules-based sentiment scores. "
   ]
  },
  {
   "cell_type": "code",
   "execution_count": null,
   "id": "bc3132d7-be12-4998-828f-1199d83d1514",
   "metadata": {},
   "outputs": [],
   "source": [
    "!conda install -c conda-forge textblob"
   ]
  },
  {
   "cell_type": "code",
   "execution_count": 138,
   "id": "ebdbbcf8-8dc1-481d-91f1-52af2ebb89f8",
   "metadata": {},
   "outputs": [
    {
     "data": {
      "text/plain": [
       "Sentiment(polarity=0.5, subjectivity=0.6)"
      ]
     },
     "execution_count": 138,
     "metadata": {},
     "output_type": "execute_result"
    }
   ],
   "source": [
    "from textblob import TextBlob\n",
    "\n",
    "example1 = TextBlob(\"I love winter\").sentiment\n",
    "\n",
    "#again, polarity is measured between -1 and 1\n",
    "#subjectivity is measured between 0 and 1. This is a measure of how opinionated something is. \n",
    "example1"
   ]
  },
  {
   "cell_type": "markdown",
   "id": "6dbe4121-dea0-4b61-b918-5c972a668458",
   "metadata": {},
   "source": [
    "### More about this module\n",
    "\n",
    "Linguist [Tom De Smedt](https://scholar.google.com/citations?user=8VBuRDwAAAAJ&hl=cs) has manually labeled all words in the english language ([from WordNet](https://wordnet.princeton.edu/)) their sentiment as \"positive\", \"negative\", etc. Let's take the word 'great' as an example.  \n",
    "\n",
    "![Great lexicon](./images/great.png)"
   ]
  },
  {
   "cell_type": "code",
   "execution_count": 139,
   "id": "27550867-0d27-4a46-bef1-f7a853a73e0c",
   "metadata": {},
   "outputs": [
    {
     "name": "stdout",
     "output_type": "stream",
     "text": [
      "Sentiment(polarity=0.8, subjectivity=0.75)\n"
     ]
    }
   ],
   "source": [
    "print(TextBlob(\"great\").sentiment) "
   ]
  },
  {
   "cell_type": "markdown",
   "id": "73986d4a-637a-47c8-900e-bdb2b5f7055c",
   "metadata": {},
   "source": [
    "Because \"great\" has several meanings, how do we know which one to use and which polarity/subjectivity score to assign to this word?  TextBlob gets the results above by just averaging all the polarity and subjectivity scores of the potential uses of \"great\""
   ]
  },
  {
   "cell_type": "code",
   "execution_count": 140,
   "id": "5eeae036-4cdd-4401-9513-e144256915b5",
   "metadata": {},
   "outputs": [
    {
     "name": "stdout",
     "output_type": "stream",
     "text": [
      "Sentiment(polarity=-0.4, subjectivity=0.75)\n"
     ]
    }
   ],
   "source": [
    "print(TextBlob(\"not great\").sentiment) "
   ]
  },
  {
   "cell_type": "markdown",
   "id": "e1f0101e-e215-4fd1-b94d-ba3fa56d4f69",
   "metadata": {},
   "source": [
    "\"Not great\" has a polarity score of -0.4, while the subjectivity remains unchanged. In this case, when TextBlob sees 'not' in front of something, it multiplies the polarity score of that word by -0.5. "
   ]
  },
  {
   "cell_type": "code",
   "execution_count": 141,
   "id": "c98f225c-ac40-4bc7-acbe-394a30d8b4ea",
   "metadata": {},
   "outputs": [
    {
     "name": "stdout",
     "output_type": "stream",
     "text": [
      "Sentiment(polarity=1.0, subjectivity=0.9750000000000001)\n"
     ]
    }
   ],
   "source": [
    "print(TextBlob(\"very great\").sentiment) "
   ]
  },
  {
   "cell_type": "markdown",
   "id": "2ce4fefe-88b0-4921-95b7-9bff5236d4e2",
   "metadata": {},
   "source": [
    "If a word is preceeded by \"very\", both the sentiment and subjectivity scores are multiplied by 1.3, with a cap score of 1. "
   ]
  },
  {
   "cell_type": "code",
   "execution_count": 142,
   "id": "f6d3bdf5-e49f-4e93-bf92-7a96fd540e64",
   "metadata": {},
   "outputs": [
    {
     "name": "stdout",
     "output_type": "stream",
     "text": [
      "Sentiment(polarity=0.8, subjectivity=0.75)\n"
     ]
    }
   ],
   "source": [
    "print(TextBlob(\"I am great.\").sentiment) "
   ]
  },
  {
   "cell_type": "markdown",
   "id": "287b3af8-7ff3-47ff-ac47-8c7001fc7c2a",
   "metadata": {},
   "source": [
    "\"I am great\" has the same score as our first example, because \"I\" and \"am\" do not affect \"great\". "
   ]
  },
  {
   "cell_type": "code",
   "execution_count": 143,
   "id": "c48bd310-6c14-470d-9dcb-629d914a3bec",
   "metadata": {},
   "outputs": [
    {
     "name": "stdout",
     "output_type": "stream",
     "text": [
      "Sentiment(polarity=1.0, subjectivity=0.75)\n"
     ]
    }
   ],
   "source": [
    "print(TextBlob(\"I am great!\").sentiment)"
   ]
  },
  {
   "cell_type": "markdown",
   "id": "5824c048-4659-4c2c-a4ac-b97317649d6f",
   "metadata": {},
   "source": [
    "Punctuation also affects the scores. Here you see an \"!\" increases the polarity (though I don't know by how much)\"\n",
    "\n",
    "### TextBlob Summary\n",
    "TextBlob finds all of the words and phrases that it can assign a polarity and subjectivity to and averages them all together to get final scores. \n",
    "\n",
    "### Example with real text\n",
    "For this example, we are going to use TextBlob to analyze the sentiment of the Harry Potter book series. I found the text of all 7 Harry Potter books in [this github repo](https://github.com/formcept/whiteboard/tree/master/nbviewer/notebooks/data/harrypotter). "
   ]
  },
  {
   "cell_type": "code",
   "execution_count": 149,
   "id": "b11e47a0-67f0-4341-ba3a-aa49b3997f1c",
   "metadata": {},
   "outputs": [],
   "source": [
    "# read in text of Harry Potter: The Sorcerer's Stone\n",
    "harry_potter1 = open('../SentimentAnalysis_NLP-main/transcripts/HarryPotterPhilosophersStone.txt','r').read()\n",
    "harry_potter2 = open('../SentimentAnalysis_NLP-main/transcripts/HarryPotterChamberOfSecrets.txt','r').read()\n",
    "harry_potter3 = open('../SentimentAnalysis_NLP-main/transcripts/HarryPotterPrisonerOfAzkaban.txt','r').read()\n",
    "harry_potter4 = open('../SentimentAnalysis_NLP-main/transcripts/HarryPotterGobletOfFire.txt','r').read()\n",
    "harry_potter5 = open('../SentimentAnalysis_NLP-main/transcripts/HarryPotterOrderOfThePhoenix.txt','r').read()\n",
    "harry_potter6 = open('../SentimentAnalysis_NLP-main/transcripts/HarryPotterHalfBloodPrince.txt','r').read()\n",
    "harry_potter7 = open('../SentimentAnalysis_NLP-main/transcripts/HarryPotterDeathlyHallows.txt','r').read()\n",
    "\n",
    "book_texts = [harry_potter1, harry_potter2, harry_potter3, harry_potter4, harry_potter5, harry_potter6, harry_potter7]\n",
    "\n",
    "book_names = [\"Sorceror's Stone\", \"Chamber of Secrets\", \"Prisoner of Azkaban\", \"Goblet of Fire\", \"Order of the Phoenix\", \"Half Blood Prince\", \"Deathly Hallows\"]"
   ]
  },
  {
   "cell_type": "markdown",
   "id": "541d31bb-a0f2-47be-b150-c8a27b96188b",
   "metadata": {},
   "source": [
    "Here I am creating a dictionary of the name and text of each book, then converting that to a pandas dataframe"
   ]
  },
  {
   "cell_type": "code",
   "execution_count": 145,
   "id": "b920e25c-6603-4ce9-92e6-fd21f890a986",
   "metadata": {},
   "outputs": [
    {
     "data": {
      "text/html": [
       "<div>\n",
       "<style scoped>\n",
       "    .dataframe tbody tr th:only-of-type {\n",
       "        vertical-align: middle;\n",
       "    }\n",
       "\n",
       "    .dataframe tbody tr th {\n",
       "        vertical-align: top;\n",
       "    }\n",
       "\n",
       "    .dataframe thead th {\n",
       "        text-align: right;\n",
       "    }\n",
       "</style>\n",
       "<table border=\"1\" class=\"dataframe\">\n",
       "  <thead>\n",
       "    <tr style=\"text-align: right;\">\n",
       "      <th></th>\n",
       "      <th>BookName</th>\n",
       "      <th>BookText</th>\n",
       "    </tr>\n",
       "  </thead>\n",
       "  <tbody>\n",
       "    <tr>\n",
       "      <th>0</th>\n",
       "      <td>Sorceror's Stone</td>\n",
       "      <td>/ \\n\\n\\n\\n\\nTHE BOY WHO LIVED \\n\\nMr. and Mrs....</td>\n",
       "    </tr>\n",
       "    <tr>\n",
       "      <th>1</th>\n",
       "      <td>Chamber of Secrets</td>\n",
       "      <td>\\nJ . K . R O W L ! N G \\n\\nHARRY \\n\\nPOTTER \\...</td>\n",
       "    </tr>\n",
       "    <tr>\n",
       "      <th>2</th>\n",
       "      <td>Prisoner of Azkaban</td>\n",
       "      <td>/ \\n\\n\\n\\n\\nOWL POST \\n\\nHarry Potter was a hi...</td>\n",
       "    </tr>\n",
       "    <tr>\n",
       "      <th>3</th>\n",
       "      <td>Goblet of Fire</td>\n",
       "      <td>/ \\n\\n\\n\\n\\nTHE RIDDLE HOUSE \\n\\nThe villagers...</td>\n",
       "    </tr>\n",
       "    <tr>\n",
       "      <th>4</th>\n",
       "      <td>Order of the Phoenix</td>\n",
       "      <td>HARRY \\n\\nPOTTER \\n\\n\\n\\n\\nI \\n\\n\\n\\n\\nDUDLEY ...</td>\n",
       "    </tr>\n",
       "    <tr>\n",
       "      <th>5</th>\n",
       "      <td>Half Blood Prince</td>\n",
       "      <td>\\n* J \\n\\n\\n\\n/ \\n\\n\\n\\n\\nTHE OTHER MINISTER \\...</td>\n",
       "    </tr>\n",
       "    <tr>\n",
       "      <th>6</th>\n",
       "      <td>Deathly Hallows</td>\n",
       "      <td>I \\n\\n\\n\\n* \\n\\nTHE DARK LORD ASCENDING \\n\\nTh...</td>\n",
       "    </tr>\n",
       "  </tbody>\n",
       "</table>\n",
       "</div>"
      ],
      "text/plain": [
       "               BookName                                           BookText\n",
       "0      Sorceror's Stone  / \\n\\n\\n\\n\\nTHE BOY WHO LIVED \\n\\nMr. and Mrs....\n",
       "1    Chamber of Secrets  \\nJ . K . R O W L ! N G \\n\\nHARRY \\n\\nPOTTER \\...\n",
       "2   Prisoner of Azkaban  / \\n\\n\\n\\n\\nOWL POST \\n\\nHarry Potter was a hi...\n",
       "3        Goblet of Fire  / \\n\\n\\n\\n\\nTHE RIDDLE HOUSE \\n\\nThe villagers...\n",
       "4  Order of the Phoenix  HARRY \\n\\nPOTTER \\n\\n\\n\\n\\nI \\n\\n\\n\\n\\nDUDLEY ...\n",
       "5     Half Blood Prince  \\n* J \\n\\n\\n\\n/ \\n\\n\\n\\n\\nTHE OTHER MINISTER \\...\n",
       "6       Deathly Hallows  I \\n\\n\\n\\n* \\n\\nTHE DARK LORD ASCENDING \\n\\nTh..."
      ]
     },
     "execution_count": 145,
     "metadata": {},
     "output_type": "execute_result"
    }
   ],
   "source": [
    "book_data = {}\n",
    "\n",
    "for i, book in enumerate(book_names):\n",
    "    book_data[book] = book_texts[i]\n",
    "    \n",
    "# create pandas dataframe with this data\n",
    "data_df = pd.DataFrame(book_data.items(), columns=['BookName', 'BookText'])\n",
    "\n",
    "data_df"
   ]
  },
  {
   "cell_type": "markdown",
   "id": "c476bf88-edf6-4093-887d-cc35c1aba5ee",
   "metadata": {},
   "source": [
    "### Cleaning the data\n",
    "\n",
    "As we did earlier, there is usually some steps of pre-processing the data before we can perform sentiment analysis on it. We are only going to do one round of data cleaning for the purposes of this workshop.\n",
    "\n",
    "Common data cleaning steps on all text:\n",
    "\n",
    "- Make text all lower case\n",
    "- Remove punctuation\n",
    "- Remove numerical values\n",
    "- Remove common non-sensical text (/n)\n",
    "- Tokenize text\n",
    "- Remove stop words\n",
    "\n",
    "<b> lambda functions: </b> small anonymous functions, meaning functions that are not named"
   ]
  },
  {
   "cell_type": "code",
   "execution_count": 151,
   "id": "c6ca9725-4b78-479c-bcf6-cdb389527cb7",
   "metadata": {},
   "outputs": [
    {
     "data": {
      "text/html": [
       "<div>\n",
       "<style scoped>\n",
       "    .dataframe tbody tr th:only-of-type {\n",
       "        vertical-align: middle;\n",
       "    }\n",
       "\n",
       "    .dataframe tbody tr th {\n",
       "        vertical-align: top;\n",
       "    }\n",
       "\n",
       "    .dataframe thead th {\n",
       "        text-align: right;\n",
       "    }\n",
       "</style>\n",
       "<table border=\"1\" class=\"dataframe\">\n",
       "  <thead>\n",
       "    <tr style=\"text-align: right;\">\n",
       "      <th></th>\n",
       "      <th>BookText</th>\n",
       "    </tr>\n",
       "  </thead>\n",
       "  <tbody>\n",
       "    <tr>\n",
       "      <th>0</th>\n",
       "      <td>the boy who lived mr and mrs dursley of numbe...</td>\n",
       "    </tr>\n",
       "    <tr>\n",
       "      <th>1</th>\n",
       "      <td>j  k  r o w l  n g harry potter  the worst bir...</td>\n",
       "    </tr>\n",
       "    <tr>\n",
       "      <th>2</th>\n",
       "      <td>owl post harry potter was a highly unusual bo...</td>\n",
       "    </tr>\n",
       "    <tr>\n",
       "      <th>3</th>\n",
       "      <td>the riddle house the villagers of little hang...</td>\n",
       "    </tr>\n",
       "    <tr>\n",
       "      <th>4</th>\n",
       "      <td>harry potter i dudley demented the hottest day...</td>\n",
       "    </tr>\n",
       "    <tr>\n",
       "      <th>5</th>\n",
       "      <td>j  the other minister it was nearing midnight...</td>\n",
       "    </tr>\n",
       "    <tr>\n",
       "      <th>6</th>\n",
       "      <td>i  the dark lord ascending the two men appeare...</td>\n",
       "    </tr>\n",
       "  </tbody>\n",
       "</table>\n",
       "</div>"
      ],
      "text/plain": [
       "                                            BookText\n",
       "0   the boy who lived mr and mrs dursley of numbe...\n",
       "1  j  k  r o w l  n g harry potter  the worst bir...\n",
       "2   owl post harry potter was a highly unusual bo...\n",
       "3   the riddle house the villagers of little hang...\n",
       "4  harry potter i dudley demented the hottest day...\n",
       "5   j  the other minister it was nearing midnight...\n",
       "6  i  the dark lord ascending the two men appeare..."
      ]
     },
     "execution_count": 151,
     "metadata": {},
     "output_type": "execute_result"
    }
   ],
   "source": [
    "# Apply a first round of text cleaning techniques\n",
    "import re\n",
    "import string\n",
    "\n",
    "def clean_text_round1(text):\n",
    "    '''Make text lowercase, remove text in square brackets, remove punctuation and remove words containing numbers.'''\n",
    "    text = text.lower()\n",
    "    text = re.sub('\\[.*?\\]', '', text)\n",
    "    text = re.sub('[%s]' % re.escape(string.punctuation), '', text)\n",
    "    text = re.sub('\\w*\\d\\w*', '', text)\n",
    "    text = re.sub('\\n', '', text)\n",
    "    return text\n",
    "\n",
    "round1 = lambda x: clean_text_round1(x)\n",
    "\n",
    "harry_potter_df = pd.DataFrame(data_df.BookText.apply(round1))\n",
    "\n",
    "harry_potter_df"
   ]
  },
  {
   "cell_type": "markdown",
   "id": "61423ac1-6bb7-4742-983f-29bd575ecf38",
   "metadata": {},
   "source": [
    "## Document-Term Matrix\n",
    "For many Natural Language Processing techniques, the text must be tokenized, meaning broken down into smaller pieces. The most common tokenization technique is to break down text into words. We can do this using scikit-learn's CountVectorizer, where every row will represent a different document and every column will represent a different word.\n",
    "\n",
    "In addition, with CountVectorizer, we can remove stop words. "
   ]
  },
  {
   "cell_type": "code",
   "execution_count": 152,
   "id": "c3f62819-f257-448f-bb99-d48ba2ec1777",
   "metadata": {},
   "outputs": [
    {
     "data": {
      "text/html": [
       "<div>\n",
       "<style scoped>\n",
       "    .dataframe tbody tr th:only-of-type {\n",
       "        vertical-align: middle;\n",
       "    }\n",
       "\n",
       "    .dataframe tbody tr th {\n",
       "        vertical-align: top;\n",
       "    }\n",
       "\n",
       "    .dataframe thead th {\n",
       "        text-align: right;\n",
       "    }\n",
       "</style>\n",
       "<table border=\"1\" class=\"dataframe\">\n",
       "  <thead>\n",
       "    <tr style=\"text-align: right;\">\n",
       "      <th></th>\n",
       "      <th>aaaaaaaaaaaaaarrrrrrrrrrrrggggghhhhh</th>\n",
       "      <th>aaaaaaaaaaargh</th>\n",
       "      <th>aaaaaaaaargh</th>\n",
       "      <th>aaaaaaaargh</th>\n",
       "      <th>aaaaaaaarrrrrgh</th>\n",
       "      <th>aaaaaaand</th>\n",
       "      <th>aaaaaaarrrgh</th>\n",
       "      <th>aaaaaah</th>\n",
       "      <th>aaaaaand</th>\n",
       "      <th>aaaaah</th>\n",
       "      <th>...</th>\n",
       "      <th>zis</th>\n",
       "      <th>zograf</th>\n",
       "      <th>zombie</th>\n",
       "      <th>zone</th>\n",
       "      <th>zonko</th>\n",
       "      <th>zoo</th>\n",
       "      <th>zoological</th>\n",
       "      <th>zoom</th>\n",
       "      <th>zoomed</th>\n",
       "      <th>zooming</th>\n",
       "    </tr>\n",
       "  </thead>\n",
       "  <tbody>\n",
       "    <tr>\n",
       "      <th>Sorceror's Stone</th>\n",
       "      <td>0</td>\n",
       "      <td>1</td>\n",
       "      <td>0</td>\n",
       "      <td>0</td>\n",
       "      <td>0</td>\n",
       "      <td>0</td>\n",
       "      <td>0</td>\n",
       "      <td>0</td>\n",
       "      <td>0</td>\n",
       "      <td>0</td>\n",
       "      <td>...</td>\n",
       "      <td>0</td>\n",
       "      <td>0</td>\n",
       "      <td>2</td>\n",
       "      <td>0</td>\n",
       "      <td>0</td>\n",
       "      <td>7</td>\n",
       "      <td>0</td>\n",
       "      <td>1</td>\n",
       "      <td>1</td>\n",
       "      <td>2</td>\n",
       "    </tr>\n",
       "    <tr>\n",
       "      <th>Chamber of Secrets</th>\n",
       "      <td>0</td>\n",
       "      <td>0</td>\n",
       "      <td>0</td>\n",
       "      <td>0</td>\n",
       "      <td>0</td>\n",
       "      <td>0</td>\n",
       "      <td>0</td>\n",
       "      <td>0</td>\n",
       "      <td>0</td>\n",
       "      <td>0</td>\n",
       "      <td>...</td>\n",
       "      <td>0</td>\n",
       "      <td>0</td>\n",
       "      <td>0</td>\n",
       "      <td>0</td>\n",
       "      <td>0</td>\n",
       "      <td>2</td>\n",
       "      <td>0</td>\n",
       "      <td>0</td>\n",
       "      <td>2</td>\n",
       "      <td>0</td>\n",
       "    </tr>\n",
       "    <tr>\n",
       "      <th>Prisoner of Azkaban</th>\n",
       "      <td>1</td>\n",
       "      <td>0</td>\n",
       "      <td>0</td>\n",
       "      <td>0</td>\n",
       "      <td>0</td>\n",
       "      <td>0</td>\n",
       "      <td>1</td>\n",
       "      <td>0</td>\n",
       "      <td>0</td>\n",
       "      <td>0</td>\n",
       "      <td>...</td>\n",
       "      <td>0</td>\n",
       "      <td>0</td>\n",
       "      <td>1</td>\n",
       "      <td>0</td>\n",
       "      <td>11</td>\n",
       "      <td>0</td>\n",
       "      <td>0</td>\n",
       "      <td>0</td>\n",
       "      <td>9</td>\n",
       "      <td>3</td>\n",
       "    </tr>\n",
       "    <tr>\n",
       "      <th>Goblet of Fire</th>\n",
       "      <td>0</td>\n",
       "      <td>0</td>\n",
       "      <td>0</td>\n",
       "      <td>0</td>\n",
       "      <td>1</td>\n",
       "      <td>1</td>\n",
       "      <td>0</td>\n",
       "      <td>0</td>\n",
       "      <td>1</td>\n",
       "      <td>1</td>\n",
       "      <td>...</td>\n",
       "      <td>7</td>\n",
       "      <td>2</td>\n",
       "      <td>0</td>\n",
       "      <td>0</td>\n",
       "      <td>1</td>\n",
       "      <td>0</td>\n",
       "      <td>1</td>\n",
       "      <td>4</td>\n",
       "      <td>9</td>\n",
       "      <td>12</td>\n",
       "    </tr>\n",
       "    <tr>\n",
       "      <th>Order of the Phoenix</th>\n",
       "      <td>0</td>\n",
       "      <td>0</td>\n",
       "      <td>1</td>\n",
       "      <td>0</td>\n",
       "      <td>0</td>\n",
       "      <td>0</td>\n",
       "      <td>0</td>\n",
       "      <td>1</td>\n",
       "      <td>0</td>\n",
       "      <td>0</td>\n",
       "      <td>...</td>\n",
       "      <td>0</td>\n",
       "      <td>0</td>\n",
       "      <td>0</td>\n",
       "      <td>1</td>\n",
       "      <td>3</td>\n",
       "      <td>0</td>\n",
       "      <td>0</td>\n",
       "      <td>2</td>\n",
       "      <td>23</td>\n",
       "      <td>7</td>\n",
       "    </tr>\n",
       "    <tr>\n",
       "      <th>Half Blood Prince</th>\n",
       "      <td>0</td>\n",
       "      <td>0</td>\n",
       "      <td>0</td>\n",
       "      <td>1</td>\n",
       "      <td>0</td>\n",
       "      <td>0</td>\n",
       "      <td>0</td>\n",
       "      <td>0</td>\n",
       "      <td>0</td>\n",
       "      <td>0</td>\n",
       "      <td>...</td>\n",
       "      <td>0</td>\n",
       "      <td>0</td>\n",
       "      <td>0</td>\n",
       "      <td>0</td>\n",
       "      <td>2</td>\n",
       "      <td>0</td>\n",
       "      <td>0</td>\n",
       "      <td>0</td>\n",
       "      <td>7</td>\n",
       "      <td>2</td>\n",
       "    </tr>\n",
       "    <tr>\n",
       "      <th>Deathly Hallows</th>\n",
       "      <td>0</td>\n",
       "      <td>0</td>\n",
       "      <td>0</td>\n",
       "      <td>0</td>\n",
       "      <td>0</td>\n",
       "      <td>0</td>\n",
       "      <td>0</td>\n",
       "      <td>0</td>\n",
       "      <td>0</td>\n",
       "      <td>0</td>\n",
       "      <td>...</td>\n",
       "      <td>2</td>\n",
       "      <td>0</td>\n",
       "      <td>0</td>\n",
       "      <td>0</td>\n",
       "      <td>0</td>\n",
       "      <td>0</td>\n",
       "      <td>0</td>\n",
       "      <td>1</td>\n",
       "      <td>6</td>\n",
       "      <td>5</td>\n",
       "    </tr>\n",
       "  </tbody>\n",
       "</table>\n",
       "<p>7 rows × 22229 columns</p>\n",
       "</div>"
      ],
      "text/plain": [
       "                      aaaaaaaaaaaaaarrrrrrrrrrrrggggghhhhh  aaaaaaaaaaargh  \\\n",
       "Sorceror's Stone                                         0               1   \n",
       "Chamber of Secrets                                       0               0   \n",
       "Prisoner of Azkaban                                      1               0   \n",
       "Goblet of Fire                                           0               0   \n",
       "Order of the Phoenix                                     0               0   \n",
       "Half Blood Prince                                        0               0   \n",
       "Deathly Hallows                                          0               0   \n",
       "\n",
       "                      aaaaaaaaargh  aaaaaaaargh  aaaaaaaarrrrrgh  aaaaaaand  \\\n",
       "Sorceror's Stone                 0            0                0          0   \n",
       "Chamber of Secrets               0            0                0          0   \n",
       "Prisoner of Azkaban              0            0                0          0   \n",
       "Goblet of Fire                   0            0                1          1   \n",
       "Order of the Phoenix             1            0                0          0   \n",
       "Half Blood Prince                0            1                0          0   \n",
       "Deathly Hallows                  0            0                0          0   \n",
       "\n",
       "                      aaaaaaarrrgh  aaaaaah  aaaaaand  aaaaah  ...  zis  \\\n",
       "Sorceror's Stone                 0        0         0       0  ...    0   \n",
       "Chamber of Secrets               0        0         0       0  ...    0   \n",
       "Prisoner of Azkaban              1        0         0       0  ...    0   \n",
       "Goblet of Fire                   0        0         1       1  ...    7   \n",
       "Order of the Phoenix             0        1         0       0  ...    0   \n",
       "Half Blood Prince                0        0         0       0  ...    0   \n",
       "Deathly Hallows                  0        0         0       0  ...    2   \n",
       "\n",
       "                      zograf  zombie  zone  zonko  zoo  zoological  zoom  \\\n",
       "Sorceror's Stone           0       2     0      0    7           0     1   \n",
       "Chamber of Secrets         0       0     0      0    2           0     0   \n",
       "Prisoner of Azkaban        0       1     0     11    0           0     0   \n",
       "Goblet of Fire             2       0     0      1    0           1     4   \n",
       "Order of the Phoenix       0       0     1      3    0           0     2   \n",
       "Half Blood Prince          0       0     0      2    0           0     0   \n",
       "Deathly Hallows            0       0     0      0    0           0     1   \n",
       "\n",
       "                      zoomed  zooming  \n",
       "Sorceror's Stone           1        2  \n",
       "Chamber of Secrets         2        0  \n",
       "Prisoner of Azkaban        9        3  \n",
       "Goblet of Fire             9       12  \n",
       "Order of the Phoenix      23        7  \n",
       "Half Blood Prince          7        2  \n",
       "Deathly Hallows            6        5  \n",
       "\n",
       "[7 rows x 22229 columns]"
      ]
     },
     "execution_count": 152,
     "metadata": {},
     "output_type": "execute_result"
    }
   ],
   "source": [
    "# we will create a document-term matrix using CountVectorizer and exclude common English stop words\n",
    "\n",
    "from sklearn.feature_extraction.text import CountVectorizer\n",
    "\n",
    "cv = CountVectorizer(stop_words='english')\n",
    "data_cv = cv.fit_transform(harry_potter_df['BookText'])\n",
    "harry_potter_dtm = pd.DataFrame(data_cv.toarray(), columns=cv.get_feature_names())\n",
    "harry_potter_dtm.index = [\"Sorceror's Stone\", \"Chamber of Secrets\", \"Prisoner of Azkaban\", \"Goblet of Fire\", \"Order of the Phoenix\", \"Half Blood Prince\", \"Deathly Hallows\"]\n",
    "harry_potter_dtm"
   ]
  },
  {
   "cell_type": "markdown",
   "id": "0d6d139a-c501-48ff-b875-ffa58cdaece6",
   "metadata": {},
   "source": [
    "## Sentiment of Routine\n",
    "\n",
    "We could look at the overall sentiment of each book (and we will), but let's do something a little more interesting. In most stories, there is an arc to the plot. Stories alternate between positive and negative events and usually end up in a positive outcome in the end. Is this true of the Harry Potter books?\n",
    "\n",
    "Start with getting the overall positivity and polarity for each book"
   ]
  },
  {
   "cell_type": "code",
   "execution_count": 153,
   "id": "cb73ac1b-e561-4feb-b84c-2032876971a9",
   "metadata": {},
   "outputs": [
    {
     "data": {
      "text/html": [
       "<div>\n",
       "<style scoped>\n",
       "    .dataframe tbody tr th:only-of-type {\n",
       "        vertical-align: middle;\n",
       "    }\n",
       "\n",
       "    .dataframe tbody tr th {\n",
       "        vertical-align: top;\n",
       "    }\n",
       "\n",
       "    .dataframe thead th {\n",
       "        text-align: right;\n",
       "    }\n",
       "</style>\n",
       "<table border=\"1\" class=\"dataframe\">\n",
       "  <thead>\n",
       "    <tr style=\"text-align: right;\">\n",
       "      <th></th>\n",
       "      <th>BookText</th>\n",
       "      <th>polarity</th>\n",
       "      <th>subjectivity</th>\n",
       "    </tr>\n",
       "  </thead>\n",
       "  <tbody>\n",
       "    <tr>\n",
       "      <th>0</th>\n",
       "      <td>the boy who lived mr and mrs dursley of numbe...</td>\n",
       "      <td>0.049472</td>\n",
       "      <td>0.475820</td>\n",
       "    </tr>\n",
       "    <tr>\n",
       "      <th>1</th>\n",
       "      <td>j  k  r o w l  n g harry potter  the worst bir...</td>\n",
       "      <td>0.044548</td>\n",
       "      <td>0.494058</td>\n",
       "    </tr>\n",
       "    <tr>\n",
       "      <th>2</th>\n",
       "      <td>owl post harry potter was a highly unusual bo...</td>\n",
       "      <td>0.032671</td>\n",
       "      <td>0.485666</td>\n",
       "    </tr>\n",
       "    <tr>\n",
       "      <th>3</th>\n",
       "      <td>the riddle house the villagers of little hang...</td>\n",
       "      <td>0.052219</td>\n",
       "      <td>0.475792</td>\n",
       "    </tr>\n",
       "    <tr>\n",
       "      <th>4</th>\n",
       "      <td>harry potter i dudley demented the hottest day...</td>\n",
       "      <td>0.036170</td>\n",
       "      <td>0.488392</td>\n",
       "    </tr>\n",
       "    <tr>\n",
       "      <th>5</th>\n",
       "      <td>j  the other minister it was nearing midnight...</td>\n",
       "      <td>0.047127</td>\n",
       "      <td>0.482435</td>\n",
       "    </tr>\n",
       "    <tr>\n",
       "      <th>6</th>\n",
       "      <td>i  the dark lord ascending the two men appeare...</td>\n",
       "      <td>0.047161</td>\n",
       "      <td>0.481454</td>\n",
       "    </tr>\n",
       "  </tbody>\n",
       "</table>\n",
       "</div>"
      ],
      "text/plain": [
       "                                            BookText  polarity  subjectivity\n",
       "0   the boy who lived mr and mrs dursley of numbe...  0.049472      0.475820\n",
       "1  j  k  r o w l  n g harry potter  the worst bir...  0.044548      0.494058\n",
       "2   owl post harry potter was a highly unusual bo...  0.032671      0.485666\n",
       "3   the riddle house the villagers of little hang...  0.052219      0.475792\n",
       "4  harry potter i dudley demented the hottest day...  0.036170      0.488392\n",
       "5   j  the other minister it was nearing midnight...  0.047127      0.482435\n",
       "6  i  the dark lord ascending the two men appeare...  0.047161      0.481454"
      ]
     },
     "execution_count": 153,
     "metadata": {},
     "output_type": "execute_result"
    }
   ],
   "source": [
    "# apply a lambda function to find the polarity and subjectivity of each story\n",
    "pol = lambda x: TextBlob(x).sentiment.polarity\n",
    "sub = lambda x: TextBlob(x).sentiment.subjectivity\n",
    "\n",
    "harry_potter_df['polarity'] = harry_potter_df['BookText'].apply(pol)\n",
    "harry_potter_df['subjectivity'] = harry_potter_df['BookText'].apply(sub)\n",
    "\n",
    "harry_potter_df"
   ]
  },
  {
   "cell_type": "markdown",
   "id": "2c009274-e357-4ea4-820b-4134a6576037",
   "metadata": {},
   "source": [
    "## Sentiment of Routine over Time\n",
    "\n",
    "Most Storylines have an arc. What is the arc of the Harry Potter books?\n",
    "To get this (arbitrarily), we will split the text into 10 chunks and we will get the polarity and subjectivity score for each section."
   ]
  },
  {
   "cell_type": "code",
   "execution_count": 154,
   "id": "b8059cd9-b59a-4aa7-aa37-2121e112ce7d",
   "metadata": {},
   "outputs": [],
   "source": [
    "import math\n",
    "\n",
    "def split_text(text, n=10):\n",
    "    '''Takes in a string of text and splits into n equal parts, with a default of 10 equal parts.'''\n",
    "\n",
    "    # Calculate length of text, the size of each chunk of text and the starting points of each chunk of text\n",
    "    length = len(text)\n",
    "    size = math.floor(length / n)\n",
    "    start = np.arange(0, length, size)\n",
    "    \n",
    "    # Pull out equally sized pieces of text and put it into a list\n",
    "    split_list = []\n",
    "    for piece in range(n):\n",
    "        split_list.append(text[start[piece]:start[piece]+size])\n",
    "    return split_list\n",
    "\n",
    "# Let's create a list to hold all of the pieces of text\n",
    "list_pieces = []\n",
    "for t in harry_potter_df.BookText:\n",
    "    split = split_text(t)\n",
    "    list_pieces.append(split)\n",
    "    \n"
   ]
  },
  {
   "cell_type": "markdown",
   "id": "253900a5-1702-4b01-8465-4887aea9e17e",
   "metadata": {},
   "source": [
    "To demonstrate this point, first this shows there are indeed 7 books."
   ]
  },
  {
   "cell_type": "code",
   "execution_count": 155,
   "id": "2bbd8f9b-051a-4c26-8e92-2df51f0b8460",
   "metadata": {},
   "outputs": [
    {
     "data": {
      "text/plain": [
       "7"
      ]
     },
     "execution_count": 155,
     "metadata": {},
     "output_type": "execute_result"
    }
   ],
   "source": [
    "len(list_pieces)"
   ]
  },
  {
   "cell_type": "markdown",
   "id": "36234fcc-d57e-4599-b335-871df82ab52b",
   "metadata": {},
   "source": [
    "And now that there are 10 chunks in each book's text"
   ]
  },
  {
   "cell_type": "code",
   "execution_count": 156,
   "id": "021d85a4-4104-462d-a371-20888a3b1875",
   "metadata": {},
   "outputs": [
    {
     "data": {
      "text/plain": [
       "10"
      ]
     },
     "execution_count": 156,
     "metadata": {},
     "output_type": "execute_result"
    }
   ],
   "source": [
    "len(list_pieces[0])"
   ]
  },
  {
   "cell_type": "markdown",
   "id": "402f3748-5e47-4b70-bb3b-efefba838203",
   "metadata": {},
   "source": [
    "Calculate the polarity score for each section of text in each book. In the end there should be 70 scores. 7 books x 10 sections per book = 70"
   ]
  },
  {
   "cell_type": "code",
   "execution_count": 162,
   "id": "a9a9f599-88a6-462b-8e8d-4f3244356ffc",
   "metadata": {},
   "outputs": [
    {
     "data": {
      "text/plain": [
       "[[0.03670946026450614,\n",
       "  0.008320715062012525,\n",
       "  0.09166974954081406,\n",
       "  0.06460785453862376,\n",
       "  0.03809108297371207,\n",
       "  0.06641762351813899,\n",
       "  0.05199167580255241,\n",
       "  0.035379484409539065,\n",
       "  0.044295234291095185,\n",
       "  0.05400896297372071],\n",
       " [0.0563743847038778,\n",
       "  0.06885438689217759,\n",
       "  0.05510049167318188,\n",
       "  0.07909284354936541,\n",
       "  0.036390349437559734,\n",
       "  0.011205687254319462,\n",
       "  0.03650850755873589,\n",
       "  0.014827570772600888,\n",
       "  0.018685277737244026,\n",
       "  0.06477400250585737],\n",
       " [0.046497764754807026,\n",
       "  0.040658972525945046,\n",
       "  0.05168185124568106,\n",
       "  0.05152927553597207,\n",
       "  -0.007709417818113483,\n",
       "  0.07915983750773957,\n",
       "  0.01682790602579828,\n",
       "  -0.012019821608091745,\n",
       "  -0.010228779017104507,\n",
       "  0.06584754250096553],\n",
       " [0.0414357063010535,\n",
       "  0.05880143183478709,\n",
       "  0.07027151603609376,\n",
       "  0.08596776985390842,\n",
       "  0.05379243851136591,\n",
       "  0.06351929048311263,\n",
       "  0.03287509375763757,\n",
       "  0.023629932351385666,\n",
       "  0.04594116073744382,\n",
       "  0.04392218643205728],\n",
       " [0.027970408829170196,\n",
       "  0.05976716311831441,\n",
       "  0.0456948479805451,\n",
       "  0.05487150580352848,\n",
       "  0.0181015431632825,\n",
       "  0.03173762642311825,\n",
       "  0.029669411646782336,\n",
       "  0.03487064982293349,\n",
       "  0.026630777661953847,\n",
       "  0.03026797481782338],\n",
       " [0.024479372745961226,\n",
       "  0.06452272387135075,\n",
       "  0.07851217457519391,\n",
       "  0.03517561129651157,\n",
       "  0.05113476792176592,\n",
       "  0.06914557034868403,\n",
       "  0.06763381166158926,\n",
       "  0.055387947189895204,\n",
       "  0.018088601625665005,\n",
       "  0.005027318907584988],\n",
       " [0.06440849726925688,\n",
       "  0.07755105031420818,\n",
       "  0.05686065862354519,\n",
       "  0.02113546115395479,\n",
       "  0.02380625054746463,\n",
       "  0.0487309238020277,\n",
       "  0.02327505971537117,\n",
       "  0.05247659081427355,\n",
       "  0.01999536987495293,\n",
       "  0.07977528616753014]]"
      ]
     },
     "execution_count": 162,
     "metadata": {},
     "output_type": "execute_result"
    }
   ],
   "source": [
    "# Calculate the polarity for each piece of text in each book\n",
    "\n",
    "polarity_transcript = []\n",
    "for lp in list_pieces:\n",
    "    polarity_piece = []\n",
    "    for p in lp:\n",
    "        polarity_piece.append(TextBlob(p).sentiment.polarity)\n",
    "    polarity_transcript.append(polarity_piece)\n",
    "    \n",
    "polarity_transcript"
   ]
  },
  {
   "cell_type": "markdown",
   "id": "6f44c20c-378d-4c7b-b032-777d121b4b55",
   "metadata": {},
   "source": [
    "Show the polarity of sections in the first book"
   ]
  },
  {
   "cell_type": "code",
   "execution_count": 157,
   "id": "7f6b584f-8560-4cfe-bf79-8c87a74508b9",
   "metadata": {},
   "outputs": [
    {
     "data": {
      "image/png": "[encoded data removed]",
      "text/plain": [
       "<Figure size 1152x864 with 1 Axes>"
      ]
     },
     "metadata": {
      "needs_background": "light"
     },
     "output_type": "display_data"
    }
   ],
   "source": [
    "# Show the plot for the first book: Harry Potter and the Sorceror's Stone\n",
    "harry_potter_df['BookTitle'] = [\"Sorceror's Stone\", \"Chamber of Secrets\", \"Prisoner of Azkaban\", \"Goblet of Fire\", \"Order of the Phoenix\", \"Half Blood Prince\", \"Deathly Hallows\"]\n",
    "\n",
    "plt.plot(polarity_transcript[0])\n",
    "plt.title(harry_potter_df['BookTitle'][0])\n",
    "plt.show()"
   ]
  },
  {
   "cell_type": "markdown",
   "id": "b3742743-0d70-4b84-bbac-c79c7eb518c8",
   "metadata": {},
   "source": [
    "Lastly, show the polarity scores for all 7 books in one plot. This will show the 'arc' of each book. One thing that caught my eye is that the 6th book (Half Blood Prince) ends on a negative note while the 7th book (Deathly Hallows) ends on a very positi"
   ]
  },
  {
   "cell_type": "code",
   "execution_count": 163,
   "id": "11e42da4-6f41-41cf-a120-efd302a6a970",
   "metadata": {},
   "outputs": [
    {
     "data": {
      "image/png": "[encoded data removed]",
      "text/plain": [
       "<Figure size 1152x864 with 7 Axes>"
      ]
     },
     "metadata": {
      "needs_background": "light"
     },
     "output_type": "display_data"
    }
   ],
   "source": [
    "# Show all books in one plot\n",
    "\n",
    "plt.rcParams['figure.figsize'] = [16, 12]\n",
    "\n",
    "for index, book in enumerate(harry_potter_df.index):\n",
    "    plt.subplot(3, 4, index+1)                             # gives each book its own plot                  \n",
    "    plt.plot(polarity_transcript[index])                   # plotting polarity score of each book  \n",
    "    plt.xlabel('Book Segment')                             # x axis label\n",
    "    plt.ylabel('Polarity')                                 # y axis label\n",
    "    plt.xticks(np.arange(0, 10, 1.0))                      # adds extra ticks on x axis\n",
    "    plt.title(harry_potter_df['BookTitle'][index])         # title of each plot\n",
    "    plt.tight_layout()                                     # spaces out plots\n",
    "    \n",
    "plt.show()"
   ]
  },
  {
   "cell_type": "code",
   "execution_count": null,
   "id": "8c1e1d98-7343-4252-b259-ff5509019b36",
   "metadata": {},
   "outputs": [],
   "source": []
  }
 ],
 "metadata": {
  "kernelspec": {
   "display_name": "Python 3 (ipykernel)",
   "language": "python",
   "name": "python3"
  },
  "language_info": {
   "codemirror_mode": {
    "name": "ipython",
    "version": 3
   },
   "file_extension": ".py",
   "mimetype": "text/x-python",
   "name": "python",
   "nbconvert_exporter": "python",
   "pygments_lexer": "ipython3",
   "version": "3.9.7"
  }
 },
 "nbformat": 4,
 "nbformat_minor": 5
}
