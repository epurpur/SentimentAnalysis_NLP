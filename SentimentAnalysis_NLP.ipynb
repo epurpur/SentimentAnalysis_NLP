{
 "cells": [
  {
   "cell_type": "markdown",
   "id": "bb6f37ff-2b8b-49ac-baea-16f4ef5e55e6",
   "metadata": {},
   "source": [
    "# Natural Language Processing and Sentiment Analysis"
   ]
  },
  {
   "cell_type": "markdown",
   "id": "6afbad2d-38dc-487b-9c46-bd99f9905732",
   "metadata": {},
   "source": [
    "## Natural Language Processing\n",
    "\n",
    "First, think about C3PO, Luke Skywalker's robot sidekick in Star Wars. C3P0 is a fantasized version of human-computer interaction in the distant future. However, humans interacting with machines is an every day reality for us. Your home or car smart assistant (Alexa), customer service on websites or phone lines, autocorrect features, etc. are all examples of Natural Language Processing.\n",
    "\n",
    "Natural Language Processing (NLP) is the field of deriving meaningful information from human speech. NLP is a branch of computer science, or more specifically a branch of artificial intelligence, concerned with allowing computers the ability to understand human speech either in a written or spoken format. \n",
    "\n",
    "\n",
    "\n",
    "\n"
   ]
  },
  {
   "cell_type": "markdown",
   "id": "11ffbfcf-f28c-4557-b22d-22fb382ca9f8",
   "metadata": {},
   "source": [
    "## NLP can be used for many purposes\n",
    "There are many different varieties of natural language processing. These are just a few real world examples of these techniques to give an idea of how this is used today.\n",
    "\n",
    "#### Sentiment Analysis\n",
    "This is most of what we will be doing today. Sentiment analysis examines text in order to identify the general \"feeling\" of the text. Take this example...\n",
    "Businesses are using sentiment analysis today to monitor and evaluate customer service. Does this customer seem satisfied?\n",
    "\n",
    "![airbnb tweet](./images/airbnb.png)\n",
    "\n",
    "This person is not happy. By analyzing sentiment analysis on customer support chats, tweets, etc. a company can get insights on where their service model is not working. \n",
    "    \n",
    "#### Topic Modeling\n",
    "Topic modeling is an unsupervised machine learning technique that is capable of scanning a set of documents, detecting patterns within them, and automatically clustering word groups or similar expressions that characterize the documents.  An example...\n",
    "Imagine that you work at a legal firm and someone at a company has embezzled money. You need to figure out who that person is and you are monitoring company emails from the last six months. There are probably thousands of emails and you don't want to waste time reading all of them. In this case, you can have a computer read the text of the emails and identify the ones that are relevant to the topic of money, narrowing down the amount of emails needed to read\n",
    "    \n",
    "![email examples](./images/topicmodeling.png)\n",
    "    \n",
    "#### Text Generation\n",
    "Text generation is simply the task of producing new text. A very common example of this is autocomplete or autofill features, such as when texting or in a search engine. Take the following example, we all use this every day right?\n",
    "\n",
    "![google autofill](./images/google.png)\n",
    "\n",
    "The code simple predicts what you might type next..."
   ]
  },
  {
   "cell_type": "code",
   "execution_count": null,
   "id": "07f5d19b-2d13-4aa0-b025-294c49439bb2",
   "metadata": {},
   "outputs": [],
   "source": []
  },
  {
   "cell_type": "markdown",
   "id": "d26c559f-2d00-41bc-b0d7-4ec11dcfcf0c",
   "metadata": {},
   "source": [
    "## Data Gathering"
   ]
  },
  {
   "cell_type": "code",
   "execution_count": 2,
   "id": "47d1ee8b-33bb-4ffa-a2bf-c2e07fc163f3",
   "metadata": {},
   "outputs": [],
   "source": [
    "import pandas as pd\n",
    "import numpy as np\n",
    "import matplotlib.pyplot as plt\n",
    "import nltk     #natural language toolkit"
   ]
  },
  {
   "cell_type": "markdown",
   "id": "2e5816cf-e838-4df8-a209-0dd90b74152a",
   "metadata": {},
   "source": [
    "### Import Sample Data from NLTK\n",
    "\n",
    "For starters, we will use some sample data that I am providing to you. This is data from Amazon.com for product reviews."
   ]
  },
  {
   "cell_type": "code",
   "execution_count": 15,
   "id": "a5dd32c1-9559-4902-91e8-a5b3fbff8ec7",
   "metadata": {},
   "outputs": [],
   "source": [
    "data = pd.read_csv('/Users/ep9k/Desktop/sentiment_analysis/Reviews.csv')"
   ]
  },
  {
   "cell_type": "code",
   "execution_count": 16,
   "id": "48d6ed84-6fbd-4cbc-9a55-980c37fda353",
   "metadata": {},
   "outputs": [
    {
     "name": "stdout",
     "output_type": "stream",
     "text": [
      "            Id   ProductId          UserId                      ProfileName  \\\n",
      "0            1  B001E4KFG0  A3SGXH7AUHU8GW                       delmartian   \n",
      "1            2  B00813GRG4  A1D87F6ZCVE5NK                           dll pa   \n",
      "2            3  B000LQOCH0   ABXLMWJIXXAIN  Natalia Corres \"Natalia Corres\"   \n",
      "3            4  B000UA0QIQ  A395BORC6FGVXV                             Karl   \n",
      "4            5  B006K2ZZ7K  A1UQRSCLF8GW1T    Michael D. Bigham \"M. Wassir\"   \n",
      "...        ...         ...             ...                              ...   \n",
      "568449  568450  B001EO7N10  A28KG5XORO54AY                 Lettie D. Carter   \n",
      "568450  568451  B003S1WTCU  A3I8AFVPEE8KI5                        R. Sawyer   \n",
      "568451  568452  B004I613EE  A121AA1GQV751Z                    pksd \"pk_007\"   \n",
      "568452  568453  B004I613EE   A3IBEVCTXKNOH          Kathy A. Welch \"katwel\"   \n",
      "568453  568454  B001LR2CU2  A3LGQPJCZVL9UC                         srfell17   \n",
      "\n",
      "        HelpfulnessNumerator  HelpfulnessDenominator  Score        Time  \\\n",
      "0                          1                       1      5  1303862400   \n",
      "1                          0                       0      1  1346976000   \n",
      "2                          1                       1      4  1219017600   \n",
      "3                          3                       3      2  1307923200   \n",
      "4                          0                       0      5  1350777600   \n",
      "...                      ...                     ...    ...         ...   \n",
      "568449                     0                       0      5  1299628800   \n",
      "568450                     0                       0      2  1331251200   \n",
      "568451                     2                       2      5  1329782400   \n",
      "568452                     1                       1      5  1331596800   \n",
      "568453                     0                       0      5  1338422400   \n",
      "\n",
      "                                   Summary  \\\n",
      "0                    Good Quality Dog Food   \n",
      "1                        Not as Advertised   \n",
      "2                    \"Delight\" says it all   \n",
      "3                           Cough Medicine   \n",
      "4                              Great taffy   \n",
      "...                                    ...   \n",
      "568449                 Will not do without   \n",
      "568450                        disappointed   \n",
      "568451            Perfect for our maltipoo   \n",
      "568452  Favorite Training and reward treat   \n",
      "568453                         Great Honey   \n",
      "\n",
      "                                                     Text  \n",
      "0       I have bought several of the Vitality canned d...  \n",
      "1       Product arrived labeled as Jumbo Salted Peanut...  \n",
      "2       This is a confection that has been around a fe...  \n",
      "3       If you are looking for the secret ingredient i...  \n",
      "4       Great taffy at a great price.  There was a wid...  \n",
      "...                                                   ...  \n",
      "568449  Great for sesame chicken..this is a good if no...  \n",
      "568450  I'm disappointed with the flavor. The chocolat...  \n",
      "568451  These stars are small, so you can give 10-15 o...  \n",
      "568452  These are the BEST treats for training and rew...  \n",
      "568453  I am very satisfied ,product is as advertised,...  \n",
      "\n",
      "[568454 rows x 10 columns]\n"
     ]
    }
   ],
   "source": [
    "print(data)"
   ]
  },
  {
   "cell_type": "markdown",
   "id": "613bae6d-b76f-4232-a436-51e53fec74bc",
   "metadata": {},
   "source": [
    "Let's see the text of just the first row of the dataset"
   ]
  },
  {
   "cell_type": "code",
   "execution_count": 17,
   "id": "35089cca-b397-4f99-842d-134520282718",
   "metadata": {},
   "outputs": [
    {
     "name": "stdout",
     "output_type": "stream",
     "text": [
      "I have bought several of the Vitality canned dog food products and have found them all to be of good quality. The product looks more like a stew than a processed meat and it smells better. My Labrador is finicky and she appreciates this product better than  most.\n"
     ]
    }
   ],
   "source": [
    "# show the text of just the first review\n",
    "print(test_corpus['Text'][0])\n"
   ]
  },
  {
   "cell_type": "markdown",
   "id": "447bce9d-c0c1-4e1c-916e-a21ad853053a",
   "metadata": {},
   "source": [
    "Here you can see the size and shape of the test data. There are over 500,000 reviews in this dataset so let's make it smaller, just for our the purposes of our workshop today."
   ]
  },
  {
   "cell_type": "code",
   "execution_count": 18,
   "id": "a2b1476e-1d5f-4fe3-af79-c3ea8d7732ea",
   "metadata": {},
   "outputs": [
    {
     "data": {
      "text/plain": [
       "(568454, 10)"
      ]
     },
     "execution_count": 18,
     "metadata": {},
     "output_type": "execute_result"
    }
   ],
   "source": [
    "data.shape"
   ]
  },
  {
   "cell_type": "code",
   "execution_count": 20,
   "id": "bbccc4a1-3f26-4190-98d1-37c6d77f1540",
   "metadata": {},
   "outputs": [],
   "source": [
    "# I am simplifying the dataset to just the first 500 reviews\n",
    "data = data.head(500)"
   ]
  },
  {
   "cell_type": "markdown",
   "id": "73d6df3a-cfc8-4358-a21f-8848bf9aaabd",
   "metadata": {},
   "source": [
    "# Exploratory Data Analysis (EDA)\n",
    "Let's play with the data to see what is in it. There are a lot of reasons for doing this."
   ]
  },
  {
   "cell_type": "markdown",
   "id": "edb44e9e-4d4e-46f9-90d8-5db7d54ae9c8",
   "metadata": {},
   "source": [
    "Products have a score of 1-5. Let's see how many times each score occurs"
   ]
  },
  {
   "cell_type": "code",
   "execution_count": 21,
   "id": "f40b7e11-e9ad-4826-a4ab-6e1aed4170b4",
   "metadata": {},
   "outputs": [
    {
     "data": {
      "text/plain": [
       "5    339\n",
       "4     70\n",
       "3     37\n",
       "1     36\n",
       "2     18\n",
       "Name: Score, dtype: int64"
      ]
     },
     "execution_count": 21,
     "metadata": {},
     "output_type": "execute_result"
    }
   ],
   "source": [
    "data['Score'].value_counts()"
   ]
  },
  {
   "cell_type": "markdown",
   "id": "3e6cbd35-b7a4-4bb6-a472-a06a2ad54fc7",
   "metadata": {},
   "source": [
    "Let's use Matplotlib to visualize the data in a plot"
   ]
  },
  {
   "cell_type": "code",
   "execution_count": 27,
   "id": "83ee8bcd-4aa4-468f-a12b-49224641e76d",
   "metadata": {},
   "outputs": [
    {
     "data": {
      "image/png": "[encoded data removed]",
      "text/plain": [
       "<Figure size 720x360 with 1 Axes>"
      ]
     },
     "metadata": {
      "needs_background": "light"
     },
     "output_type": "display_data"
    }
   ],
   "source": [
    "ax = data['Score'].value_counts().sort_index().plot(kind='bar',\n",
    "                                title='Count of Reviews by Stars',\n",
    "                                figsize=(10, 5))\n",
    "ax.set_xlabel('Review Stars')\n",
    "plt.show()"
   ]
  },
  {
   "cell_type": "markdown",
   "id": "d2763c4f-8317-4b24-87ca-3d7ddac0698e",
   "metadata": {},
   "source": [
    "# NLTK Basics"
   ]
  },
  {
   "cell_type": "code",
   "execution_count": 30,
   "id": "f33f67d3-44af-40ad-9589-1503d1076004",
   "metadata": {},
   "outputs": [
    {
     "name": "stdout",
     "output_type": "stream",
     "text": [
      "This oatmeal is not good. Its mushy, soft, I don't like it. Quaker Oats is the way to go.\n"
     ]
    }
   ],
   "source": [
    "example_text = data['Text'][50]\n",
    "print(example_text)"
   ]
  },
  {
   "cell_type": "markdown",
   "id": "b47a0133-f906-4661-a9e4-4e8a7ae4821c",
   "metadata": {},
   "source": [
    "## Tokenization"
   ]
  },
  {
   "cell_type": "markdown",
   "id": "fc50b04c-8260-4437-aada-2fce331a480a",
   "metadata": {},
   "source": [
    "NLTK allows tokenization out of the box with word_tokenize(). However, it is a little bit messy"
   ]
  },
  {
   "cell_type": "code",
   "execution_count": 34,
   "id": "c84f0b6c-d2d3-465d-bf5c-fd8d7645a924",
   "metadata": {},
   "outputs": [
    {
     "name": "stdout",
     "output_type": "stream",
     "text": [
      "['This', 'oatmeal', 'is', 'not', 'good', '.', 'Its', 'mushy', ',', 'soft', ',', 'I', 'do', \"n't\", 'like', 'it', '.', 'Quaker', 'Oats', 'is', 'the', 'way', 'to', 'go', '.']\n"
     ]
    }
   ],
   "source": [
    "tokens = nltk.word_tokenize(example_text)\n",
    "print(tokens)"
   ]
  },
  {
   "cell_type": "markdown",
   "id": "99a9f7f8-5e8e-46f2-94bb-99d39a94055d",
   "metadata": {},
   "source": [
    "## Part of Speech\n",
    "We can find the part of speech for each token. [Here](https://pythonprogramming.net/natural-language-toolkit-nltk-part-speech-tagging/) is a (complete?) list of NLTK's parts of speech. "
   ]
  },
  {
   "cell_type": "code",
   "execution_count": 36,
   "id": "71cdee95-386c-4fc3-9dec-be86ae96f1fd",
   "metadata": {},
   "outputs": [],
   "source": [
    "tagged = nltk.pos_tag(tokens)"
   ]
  },
  {
   "cell_type": "markdown",
   "id": "eaf85643-8ebf-4c0b-b541-7eee490e196b",
   "metadata": {},
   "source": [
    "## VADER Sentiment Scoring\n",
    "VADER - Valence Aware Dictionary for sEntiment Reasoning. VADER is a model used for text sentiment analysis that is sensitive to both polarity (positive/negative) and intensity of emotion. This model does not account for relationships between words. This is the \"bag of word\" approach. All words in the text are thrown into a bag and scored. The cumulative score determines the final rating."
   ]
  },
  {
   "cell_type": "code",
   "execution_count": 42,
   "id": "6b7386de-31c3-4034-8b8c-1fb5a490f547",
   "metadata": {},
   "outputs": [],
   "source": [
    "from nltk.sentiment import SentimentIntensityAnalyzer"
   ]
  },
  {
   "cell_type": "code",
   "execution_count": 43,
   "id": "3e273ff1-4e27-4b37-8beb-09416d5d6a34",
   "metadata": {},
   "outputs": [],
   "source": [
    "sia = SentimentIntensityAnalyzer()"
   ]
  },
  {
   "cell_type": "markdown",
   "id": "d0787f92-fcf0-4033-9e4a-e78fbc1f5862",
   "metadata": {},
   "source": [
    "A few quick examples of the Sentiment Intensity Analyzer in action."
   ]
  },
  {
   "cell_type": "code",
   "execution_count": 44,
   "id": "a12fbaa4-58af-4b47-9566-1cf17522e4d3",
   "metadata": {},
   "outputs": [
    {
     "data": {
      "text/plain": [
       "{'neg': 0.0, 'neu': 0.318, 'pos': 0.682, 'compound': 0.6468}"
      ]
     },
     "execution_count": 44,
     "metadata": {},
     "output_type": "execute_result"
    }
   ],
   "source": [
    "sia.polarity_scores('I am so happy!')"
   ]
  },
  {
   "cell_type": "markdown",
   "id": "bca2bf43-2304-4683-b6c9-ba9e438e6c00",
   "metadata": {},
   "source": [
    "The compound score has a range of values from -1 to +1 to rate how positive (+1) or negative (-1) a statement is. "
   ]
  },
  {
   "cell_type": "code",
   "execution_count": 45,
   "id": "c4b4e036-eae0-4873-a806-9941fd3e8c27",
   "metadata": {},
   "outputs": [
    {
     "data": {
      "text/plain": [
       "{'neg': 0.594, 'neu': 0.406, 'pos': 0.0, 'compound': -0.6588}"
      ]
     },
     "execution_count": 45,
     "metadata": {},
     "output_type": "execute_result"
    }
   ],
   "source": [
    "sia.polarity_scores('This is the worst!')"
   ]
  },
  {
   "cell_type": "markdown",
   "id": "58680ce2-b603-43ff-98e0-95a1e6eaae33",
   "metadata": {},
   "source": [
    "Now let's run this on our example text from earlier"
   ]
  },
  {
   "cell_type": "code",
   "execution_count": 49,
   "id": "1a1b3cac-10f3-4f1c-839e-e580577fd501",
   "metadata": {},
   "outputs": [
    {
     "name": "stdout",
     "output_type": "stream",
     "text": [
      "This oatmeal is not good. Its mushy, soft, I don't like it. Quaker Oats is the way to go.\n"
     ]
    },
    {
     "data": {
      "text/plain": [
       "{'neg': 0.22, 'neu': 0.78, 'pos': 0.0, 'compound': -0.5448}"
      ]
     },
     "execution_count": 49,
     "metadata": {},
     "output_type": "execute_result"
    }
   ],
   "source": [
    "print(example_text)\n",
    "sia.polarity_scores(example_text)"
   ]
  },
  {
   "cell_type": "markdown",
   "id": "36f6e2b4-e0af-4626-961c-4112a7ee912a",
   "metadata": {},
   "source": [
    "Now let's run it on our entire dataset"
   ]
  },
  {
   "cell_type": "code",
   "execution_count": 90,
   "id": "347a0314-d172-41df-bd24-73492dce951c",
   "metadata": {},
   "outputs": [],
   "source": [
    "results = {}\n",
    "\n",
    "for i, row in data.iterrows():\n",
    "    text = row['Text']\n",
    "    myId = row['Id']\n",
    "    results[myId] = sia.polarity_scores(text)\n",
    "    \n"
   ]
  },
  {
   "cell_type": "code",
   "execution_count": 76,
   "id": "b0bb44e3-fec8-490b-bca5-6cc1e712ed15",
   "metadata": {},
   "outputs": [],
   "source": [
    "vaders = pd.DataFrame(results).T"
   ]
  },
  {
   "cell_type": "markdown",
   "id": "f84a31dc-079a-4a39-b0ab-f152ae09a8a2",
   "metadata": {},
   "source": [
    "Now let's merge our vaders sentiment scores with our original dataframe"
   ]
  },
  {
   "cell_type": "code",
   "execution_count": 93,
   "id": "ecb776e7-8a36-492d-bd3c-9573ef83e04d",
   "metadata": {},
   "outputs": [],
   "source": [
    "#it is actually very easy to do\n",
    "data = data.merge(vaders)"
   ]
  },
  {
   "cell_type": "code",
   "execution_count": 94,
   "id": "cb8f520b-ed42-41c9-a4e5-2838802951af",
   "metadata": {},
   "outputs": [
    {
     "data": {
      "text/html": [
       "<div>\n",
       "<style scoped>\n",
       "    .dataframe tbody tr th:only-of-type {\n",
       "        vertical-align: middle;\n",
       "    }\n",
       "\n",
       "    .dataframe tbody tr th {\n",
       "        vertical-align: top;\n",
       "    }\n",
       "\n",
       "    .dataframe thead th {\n",
       "        text-align: right;\n",
       "    }\n",
       "</style>\n",
       "<table border=\"1\" class=\"dataframe\">\n",
       "  <thead>\n",
       "    <tr style=\"text-align: right;\">\n",
       "      <th></th>\n",
       "      <th>Id</th>\n",
       "      <th>ProductId</th>\n",
       "      <th>UserId</th>\n",
       "      <th>ProfileName</th>\n",
       "      <th>HelpfulnessNumerator</th>\n",
       "      <th>HelpfulnessDenominator</th>\n",
       "      <th>Score</th>\n",
       "      <th>Time</th>\n",
       "      <th>Summary</th>\n",
       "      <th>Text</th>\n",
       "      <th>neg</th>\n",
       "      <th>neu</th>\n",
       "      <th>pos</th>\n",
       "      <th>compound</th>\n",
       "    </tr>\n",
       "  </thead>\n",
       "  <tbody>\n",
       "    <tr>\n",
       "      <th>0</th>\n",
       "      <td>1</td>\n",
       "      <td>B001E4KFG0</td>\n",
       "      <td>A3SGXH7AUHU8GW</td>\n",
       "      <td>delmartian</td>\n",
       "      <td>1</td>\n",
       "      <td>1</td>\n",
       "      <td>5</td>\n",
       "      <td>1303862400</td>\n",
       "      <td>Good Quality Dog Food</td>\n",
       "      <td>I have bought several of the Vitality canned d...</td>\n",
       "      <td>0.000</td>\n",
       "      <td>0.695</td>\n",
       "      <td>0.305</td>\n",
       "      <td>0.9441</td>\n",
       "    </tr>\n",
       "    <tr>\n",
       "      <th>1</th>\n",
       "      <td>2</td>\n",
       "      <td>B00813GRG4</td>\n",
       "      <td>A1D87F6ZCVE5NK</td>\n",
       "      <td>dll pa</td>\n",
       "      <td>0</td>\n",
       "      <td>0</td>\n",
       "      <td>1</td>\n",
       "      <td>1346976000</td>\n",
       "      <td>Not as Advertised</td>\n",
       "      <td>Product arrived labeled as Jumbo Salted Peanut...</td>\n",
       "      <td>0.138</td>\n",
       "      <td>0.862</td>\n",
       "      <td>0.000</td>\n",
       "      <td>-0.5664</td>\n",
       "    </tr>\n",
       "    <tr>\n",
       "      <th>2</th>\n",
       "      <td>3</td>\n",
       "      <td>B000LQOCH0</td>\n",
       "      <td>ABXLMWJIXXAIN</td>\n",
       "      <td>Natalia Corres \"Natalia Corres\"</td>\n",
       "      <td>1</td>\n",
       "      <td>1</td>\n",
       "      <td>4</td>\n",
       "      <td>1219017600</td>\n",
       "      <td>\"Delight\" says it all</td>\n",
       "      <td>This is a confection that has been around a fe...</td>\n",
       "      <td>0.091</td>\n",
       "      <td>0.754</td>\n",
       "      <td>0.155</td>\n",
       "      <td>0.8265</td>\n",
       "    </tr>\n",
       "    <tr>\n",
       "      <th>3</th>\n",
       "      <td>4</td>\n",
       "      <td>B000UA0QIQ</td>\n",
       "      <td>A395BORC6FGVXV</td>\n",
       "      <td>Karl</td>\n",
       "      <td>3</td>\n",
       "      <td>3</td>\n",
       "      <td>2</td>\n",
       "      <td>1307923200</td>\n",
       "      <td>Cough Medicine</td>\n",
       "      <td>If you are looking for the secret ingredient i...</td>\n",
       "      <td>0.000</td>\n",
       "      <td>1.000</td>\n",
       "      <td>0.000</td>\n",
       "      <td>0.0000</td>\n",
       "    </tr>\n",
       "    <tr>\n",
       "      <th>4</th>\n",
       "      <td>5</td>\n",
       "      <td>B006K2ZZ7K</td>\n",
       "      <td>A1UQRSCLF8GW1T</td>\n",
       "      <td>Michael D. Bigham \"M. Wassir\"</td>\n",
       "      <td>0</td>\n",
       "      <td>0</td>\n",
       "      <td>5</td>\n",
       "      <td>1350777600</td>\n",
       "      <td>Great taffy</td>\n",
       "      <td>Great taffy at a great price.  There was a wid...</td>\n",
       "      <td>0.000</td>\n",
       "      <td>0.552</td>\n",
       "      <td>0.448</td>\n",
       "      <td>0.9468</td>\n",
       "    </tr>\n",
       "  </tbody>\n",
       "</table>\n",
       "</div>"
      ],
      "text/plain": [
       "   Id   ProductId          UserId                      ProfileName  \\\n",
       "0   1  B001E4KFG0  A3SGXH7AUHU8GW                       delmartian   \n",
       "1   2  B00813GRG4  A1D87F6ZCVE5NK                           dll pa   \n",
       "2   3  B000LQOCH0   ABXLMWJIXXAIN  Natalia Corres \"Natalia Corres\"   \n",
       "3   4  B000UA0QIQ  A395BORC6FGVXV                             Karl   \n",
       "4   5  B006K2ZZ7K  A1UQRSCLF8GW1T    Michael D. Bigham \"M. Wassir\"   \n",
       "\n",
       "   HelpfulnessNumerator  HelpfulnessDenominator  Score        Time  \\\n",
       "0                     1                       1      5  1303862400   \n",
       "1                     0                       0      1  1346976000   \n",
       "2                     1                       1      4  1219017600   \n",
       "3                     3                       3      2  1307923200   \n",
       "4                     0                       0      5  1350777600   \n",
       "\n",
       "                 Summary                                               Text  \\\n",
       "0  Good Quality Dog Food  I have bought several of the Vitality canned d...   \n",
       "1      Not as Advertised  Product arrived labeled as Jumbo Salted Peanut...   \n",
       "2  \"Delight\" says it all  This is a confection that has been around a fe...   \n",
       "3         Cough Medicine  If you are looking for the secret ingredient i...   \n",
       "4            Great taffy  Great taffy at a great price.  There was a wid...   \n",
       "\n",
       "     neg    neu    pos  compound  \n",
       "0  0.000  0.695  0.305    0.9441  \n",
       "1  0.138  0.862  0.000   -0.5664  \n",
       "2  0.091  0.754  0.155    0.8265  \n",
       "3  0.000  1.000  0.000    0.0000  \n",
       "4  0.000  0.552  0.448    0.9468  "
      ]
     },
     "execution_count": 94,
     "metadata": {},
     "output_type": "execute_result"
    }
   ],
   "source": [
    "data.head()"
   ]
  },
  {
   "cell_type": "code",
   "execution_count": null,
   "id": "8e1374cb-78ed-43e1-95ba-85ae41f049b2",
   "metadata": {},
   "outputs": [],
   "source": []
  }
 ],
 "metadata": {
  "kernelspec": {
   "display_name": "Python 3 (ipykernel)",
   "language": "python",
   "name": "python3"
  },
  "language_info": {
   "codemirror_mode": {
    "name": "ipython",
    "version": 3
   },
   "file_extension": ".py",
   "mimetype": "text/x-python",
   "name": "python",
   "nbconvert_exporter": "python",
   "pygments_lexer": "ipython3",
   "version": "3.9.7"
  }
 },
 "nbformat": 4,
 "nbformat_minor": 5
}
